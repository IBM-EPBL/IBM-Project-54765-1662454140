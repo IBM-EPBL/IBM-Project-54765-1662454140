{
 "cells": [
  {
   "cell_type": "code",
   "execution_count": 1,
   "id": "e8144d3f",
   "metadata": {
    "_cell_guid": "b1076dfc-b9ad-4769-8c92-a6c4dae69d19",
    "_uuid": "8f2839f25d086af736a60e9eeb907d3b93b6e0e5",
    "execution": {
     "iopub.execute_input": "2022-09-07T15:02:10.763007Z",
     "iopub.status.busy": "2022-09-07T15:02:10.762278Z",
     "iopub.status.idle": "2022-09-07T15:02:10.783492Z",
     "shell.execute_reply": "2022-09-07T15:02:10.782244Z"
    },
    "papermill": {
     "duration": 0.043377,
     "end_time": "2022-09-07T15:02:10.786664",
     "exception": false,
     "start_time": "2022-09-07T15:02:10.743287",
     "status": "completed"
    },
    "tags": []
   },
   "outputs": [
    {
     "name": "stdout",
     "output_type": "stream",
     "text": [
      "/kaggle/input/forest-fires-data-set/forestfires.csv\n"
     ]
    }
   ],
   "source": [
    "# This Python 3 environment comes with many helpful analytics libraries installed\n",
    "# It is defined by the kaggle/python Docker image: https://github.com/kaggle/docker-python\n",
    "# For example, here's several helpful packages to load\n",
    "\n",
    "import numpy as np # linear algebra\n",
    "import pandas as pd # data processing, CSV file I/O (e.g. pd.read_csv)\n",
    "\n",
    "# Input data files are available in the read-only \"../input/\" directory\n",
    "# For example, running this (by clicking run or pressing Shift+Enter) will list all files under the input directory\n",
    "\n",
    "import os\n",
    "for dirname, _, filenames in os.walk('/kaggle/input'):\n",
    "    for filename in filenames:\n",
    "        print(os.path.join(dirname, filename))\n",
    "\n",
    "# You can write up to 20GB to the current directory (/kaggle/working/) that gets preserved as output when you create a version using \"Save & Run All\" \n",
    "# You can also write temporary files to /kaggle/temp/, but they won't be saved outside of the current session"
   ]
  },
  {
   "cell_type": "code",
   "execution_count": 2,
   "id": "a1ed7715",
   "metadata": {
    "execution": {
     "iopub.execute_input": "2022-09-07T15:02:10.820872Z",
     "iopub.status.busy": "2022-09-07T15:02:10.820426Z",
     "iopub.status.idle": "2022-09-07T15:02:18.810859Z",
     "shell.execute_reply": "2022-09-07T15:02:18.809833Z"
    },
    "papermill": {
     "duration": 8.011777,
     "end_time": "2022-09-07T15:02:18.813878",
     "exception": false,
     "start_time": "2022-09-07T15:02:10.802101",
     "status": "completed"
    },
    "tags": []
   },
   "outputs": [],
   "source": [
    "import seaborn as sns\n",
    "import tensorflow as tf\n",
    "import xgboost as xgb\n",
    "from sklearn.metrics import mean_squared_error\n",
    "from tensorflow.keras import layers\n",
    "import matplotlib.pyplot as plt\n",
    "import seaborn as sns"
   ]
  },
  {
   "cell_type": "markdown",
   "id": "178a721a",
   "metadata": {
    "papermill": {
     "duration": 0.015587,
     "end_time": "2022-09-07T15:02:18.845508",
     "exception": false,
     "start_time": "2022-09-07T15:02:18.829921",
     "status": "completed"
    },
    "tags": []
   },
   "source": [
    "The Fine Fuel Moisture Code (FFMC) represents fuel moisture of forest litter fuels under the shade of a forest canopy. It is intended to represent moisture conditions for shaded litter fuels, the equivalent of 16-hour timelag. It ranges from 0-101. Subtracting the FFMC value from 100 can provide an estimate for the equivalent (approximately 10h) fuel moisture content, most accurate when FFMC values are roughly above 80.\n",
    "\n",
    "The Duff Moisture Code (DMC) represents fuel moisture of decomposed organic material underneath the litter. System designers suggest that it is represents moisture conditions for the equivalent of 15-day (or 360 hr) timelag fuels. It is unitless and open ended. It may provide insight to live fuel moisture stress.\n",
    "\n",
    "The Drought Code (DC), much like the Keetch-Byrum Drought Index, represents drying deep into the soil. It approximates moisture conditions for the equivalent of 53-day (1272 hour) timelag fuels. It is unitless, with a maximum value of 1000. Extreme drought conditions have produced DC values near 800."
   ]
  },
  {
   "cell_type": "code",
   "execution_count": 3,
   "id": "e3ca204e",
   "metadata": {
    "execution": {
     "iopub.execute_input": "2022-09-07T15:02:18.878018Z",
     "iopub.status.busy": "2022-09-07T15:02:18.876995Z",
     "iopub.status.idle": "2022-09-07T15:02:18.928259Z",
     "shell.execute_reply": "2022-09-07T15:02:18.927082Z"
    },
    "papermill": {
     "duration": 0.070512,
     "end_time": "2022-09-07T15:02:18.931040",
     "exception": false,
     "start_time": "2022-09-07T15:02:18.860528",
     "status": "completed"
    },
    "tags": []
   },
   "outputs": [
    {
     "data": {
      "text/html": [
       "<div>\n",
       "<style scoped>\n",
       "    .dataframe tbody tr th:only-of-type {\n",
       "        vertical-align: middle;\n",
       "    }\n",
       "\n",
       "    .dataframe tbody tr th {\n",
       "        vertical-align: top;\n",
       "    }\n",
       "\n",
       "    .dataframe thead th {\n",
       "        text-align: right;\n",
       "    }\n",
       "</style>\n",
       "<table border=\"1\" class=\"dataframe\">\n",
       "  <thead>\n",
       "    <tr style=\"text-align: right;\">\n",
       "      <th></th>\n",
       "      <th>X</th>\n",
       "      <th>Y</th>\n",
       "      <th>month</th>\n",
       "      <th>day</th>\n",
       "      <th>FFMC</th>\n",
       "      <th>DMC</th>\n",
       "      <th>DC</th>\n",
       "      <th>ISI</th>\n",
       "      <th>temp</th>\n",
       "      <th>RH</th>\n",
       "      <th>wind</th>\n",
       "      <th>rain</th>\n",
       "      <th>area</th>\n",
       "    </tr>\n",
       "  </thead>\n",
       "  <tbody>\n",
       "    <tr>\n",
       "      <th>0</th>\n",
       "      <td>7</td>\n",
       "      <td>5</td>\n",
       "      <td>mar</td>\n",
       "      <td>fri</td>\n",
       "      <td>86.2</td>\n",
       "      <td>26.2</td>\n",
       "      <td>94.3</td>\n",
       "      <td>5.1</td>\n",
       "      <td>8.2</td>\n",
       "      <td>51</td>\n",
       "      <td>6.7</td>\n",
       "      <td>0.0</td>\n",
       "      <td>0.00</td>\n",
       "    </tr>\n",
       "    <tr>\n",
       "      <th>1</th>\n",
       "      <td>7</td>\n",
       "      <td>4</td>\n",
       "      <td>oct</td>\n",
       "      <td>tue</td>\n",
       "      <td>90.6</td>\n",
       "      <td>35.4</td>\n",
       "      <td>669.1</td>\n",
       "      <td>6.7</td>\n",
       "      <td>18.0</td>\n",
       "      <td>33</td>\n",
       "      <td>0.9</td>\n",
       "      <td>0.0</td>\n",
       "      <td>0.00</td>\n",
       "    </tr>\n",
       "    <tr>\n",
       "      <th>2</th>\n",
       "      <td>7</td>\n",
       "      <td>4</td>\n",
       "      <td>oct</td>\n",
       "      <td>sat</td>\n",
       "      <td>90.6</td>\n",
       "      <td>43.7</td>\n",
       "      <td>686.9</td>\n",
       "      <td>6.7</td>\n",
       "      <td>14.6</td>\n",
       "      <td>33</td>\n",
       "      <td>1.3</td>\n",
       "      <td>0.0</td>\n",
       "      <td>0.00</td>\n",
       "    </tr>\n",
       "    <tr>\n",
       "      <th>3</th>\n",
       "      <td>8</td>\n",
       "      <td>6</td>\n",
       "      <td>mar</td>\n",
       "      <td>fri</td>\n",
       "      <td>91.7</td>\n",
       "      <td>33.3</td>\n",
       "      <td>77.5</td>\n",
       "      <td>9.0</td>\n",
       "      <td>8.3</td>\n",
       "      <td>97</td>\n",
       "      <td>4.0</td>\n",
       "      <td>0.2</td>\n",
       "      <td>0.00</td>\n",
       "    </tr>\n",
       "    <tr>\n",
       "      <th>4</th>\n",
       "      <td>8</td>\n",
       "      <td>6</td>\n",
       "      <td>mar</td>\n",
       "      <td>sun</td>\n",
       "      <td>89.3</td>\n",
       "      <td>51.3</td>\n",
       "      <td>102.2</td>\n",
       "      <td>9.6</td>\n",
       "      <td>11.4</td>\n",
       "      <td>99</td>\n",
       "      <td>1.8</td>\n",
       "      <td>0.0</td>\n",
       "      <td>0.00</td>\n",
       "    </tr>\n",
       "    <tr>\n",
       "      <th>...</th>\n",
       "      <td>...</td>\n",
       "      <td>...</td>\n",
       "      <td>...</td>\n",
       "      <td>...</td>\n",
       "      <td>...</td>\n",
       "      <td>...</td>\n",
       "      <td>...</td>\n",
       "      <td>...</td>\n",
       "      <td>...</td>\n",
       "      <td>...</td>\n",
       "      <td>...</td>\n",
       "      <td>...</td>\n",
       "      <td>...</td>\n",
       "    </tr>\n",
       "    <tr>\n",
       "      <th>512</th>\n",
       "      <td>4</td>\n",
       "      <td>3</td>\n",
       "      <td>aug</td>\n",
       "      <td>sun</td>\n",
       "      <td>81.6</td>\n",
       "      <td>56.7</td>\n",
       "      <td>665.6</td>\n",
       "      <td>1.9</td>\n",
       "      <td>27.8</td>\n",
       "      <td>32</td>\n",
       "      <td>2.7</td>\n",
       "      <td>0.0</td>\n",
       "      <td>6.44</td>\n",
       "    </tr>\n",
       "    <tr>\n",
       "      <th>513</th>\n",
       "      <td>2</td>\n",
       "      <td>4</td>\n",
       "      <td>aug</td>\n",
       "      <td>sun</td>\n",
       "      <td>81.6</td>\n",
       "      <td>56.7</td>\n",
       "      <td>665.6</td>\n",
       "      <td>1.9</td>\n",
       "      <td>21.9</td>\n",
       "      <td>71</td>\n",
       "      <td>5.8</td>\n",
       "      <td>0.0</td>\n",
       "      <td>54.29</td>\n",
       "    </tr>\n",
       "    <tr>\n",
       "      <th>514</th>\n",
       "      <td>7</td>\n",
       "      <td>4</td>\n",
       "      <td>aug</td>\n",
       "      <td>sun</td>\n",
       "      <td>81.6</td>\n",
       "      <td>56.7</td>\n",
       "      <td>665.6</td>\n",
       "      <td>1.9</td>\n",
       "      <td>21.2</td>\n",
       "      <td>70</td>\n",
       "      <td>6.7</td>\n",
       "      <td>0.0</td>\n",
       "      <td>11.16</td>\n",
       "    </tr>\n",
       "    <tr>\n",
       "      <th>515</th>\n",
       "      <td>1</td>\n",
       "      <td>4</td>\n",
       "      <td>aug</td>\n",
       "      <td>sat</td>\n",
       "      <td>94.4</td>\n",
       "      <td>146.0</td>\n",
       "      <td>614.7</td>\n",
       "      <td>11.3</td>\n",
       "      <td>25.6</td>\n",
       "      <td>42</td>\n",
       "      <td>4.0</td>\n",
       "      <td>0.0</td>\n",
       "      <td>0.00</td>\n",
       "    </tr>\n",
       "    <tr>\n",
       "      <th>516</th>\n",
       "      <td>6</td>\n",
       "      <td>3</td>\n",
       "      <td>nov</td>\n",
       "      <td>tue</td>\n",
       "      <td>79.5</td>\n",
       "      <td>3.0</td>\n",
       "      <td>106.7</td>\n",
       "      <td>1.1</td>\n",
       "      <td>11.8</td>\n",
       "      <td>31</td>\n",
       "      <td>4.5</td>\n",
       "      <td>0.0</td>\n",
       "      <td>0.00</td>\n",
       "    </tr>\n",
       "  </tbody>\n",
       "</table>\n",
       "<p>517 rows × 13 columns</p>\n",
       "</div>"
      ],
      "text/plain": [
       "     X  Y month  day  FFMC    DMC     DC   ISI  temp  RH  wind  rain   area\n",
       "0    7  5   mar  fri  86.2   26.2   94.3   5.1   8.2  51   6.7   0.0   0.00\n",
       "1    7  4   oct  tue  90.6   35.4  669.1   6.7  18.0  33   0.9   0.0   0.00\n",
       "2    7  4   oct  sat  90.6   43.7  686.9   6.7  14.6  33   1.3   0.0   0.00\n",
       "3    8  6   mar  fri  91.7   33.3   77.5   9.0   8.3  97   4.0   0.2   0.00\n",
       "4    8  6   mar  sun  89.3   51.3  102.2   9.6  11.4  99   1.8   0.0   0.00\n",
       "..  .. ..   ...  ...   ...    ...    ...   ...   ...  ..   ...   ...    ...\n",
       "512  4  3   aug  sun  81.6   56.7  665.6   1.9  27.8  32   2.7   0.0   6.44\n",
       "513  2  4   aug  sun  81.6   56.7  665.6   1.9  21.9  71   5.8   0.0  54.29\n",
       "514  7  4   aug  sun  81.6   56.7  665.6   1.9  21.2  70   6.7   0.0  11.16\n",
       "515  1  4   aug  sat  94.4  146.0  614.7  11.3  25.6  42   4.0   0.0   0.00\n",
       "516  6  3   nov  tue  79.5    3.0  106.7   1.1  11.8  31   4.5   0.0   0.00\n",
       "\n",
       "[517 rows x 13 columns]"
      ]
     },
     "execution_count": 3,
     "metadata": {},
     "output_type": "execute_result"
    }
   ],
   "source": [
    "ff_dataset = pd.read_csv('../input/forest-fires-data-set/forestfires.csv')\n",
    "ff_dataset"
   ]
  },
  {
   "cell_type": "code",
   "execution_count": 4,
   "id": "f5ffa727",
   "metadata": {
    "execution": {
     "iopub.execute_input": "2022-09-07T15:02:18.964062Z",
     "iopub.status.busy": "2022-09-07T15:02:18.963622Z",
     "iopub.status.idle": "2022-09-07T15:02:18.999891Z",
     "shell.execute_reply": "2022-09-07T15:02:18.998141Z"
    },
    "papermill": {
     "duration": 0.056735,
     "end_time": "2022-09-07T15:02:19.003259",
     "exception": false,
     "start_time": "2022-09-07T15:02:18.946524",
     "status": "completed"
    },
    "tags": []
   },
   "outputs": [
    {
     "name": "stderr",
     "output_type": "stream",
     "text": [
      "/opt/conda/lib/python3.7/site-packages/pandas/core/arraylike.py:364: RuntimeWarning: divide by zero encountered in log\n",
      "  result = getattr(ufunc, method)(*inputs, **kwargs)\n"
     ]
    },
    {
     "data": {
      "text/html": [
       "<div>\n",
       "<style scoped>\n",
       "    .dataframe tbody tr th:only-of-type {\n",
       "        vertical-align: middle;\n",
       "    }\n",
       "\n",
       "    .dataframe tbody tr th {\n",
       "        vertical-align: top;\n",
       "    }\n",
       "\n",
       "    .dataframe thead th {\n",
       "        text-align: right;\n",
       "    }\n",
       "</style>\n",
       "<table border=\"1\" class=\"dataframe\">\n",
       "  <thead>\n",
       "    <tr style=\"text-align: right;\">\n",
       "      <th></th>\n",
       "      <th>X</th>\n",
       "      <th>Y</th>\n",
       "      <th>month</th>\n",
       "      <th>day</th>\n",
       "      <th>FFMC</th>\n",
       "      <th>DMC</th>\n",
       "      <th>DC</th>\n",
       "      <th>ISI</th>\n",
       "      <th>temp</th>\n",
       "      <th>RH</th>\n",
       "      <th>wind</th>\n",
       "      <th>rain</th>\n",
       "      <th>area</th>\n",
       "      <th>area_log</th>\n",
       "    </tr>\n",
       "  </thead>\n",
       "  <tbody>\n",
       "    <tr>\n",
       "      <th>0</th>\n",
       "      <td>7</td>\n",
       "      <td>5</td>\n",
       "      <td>mar</td>\n",
       "      <td>fri</td>\n",
       "      <td>86.2</td>\n",
       "      <td>26.2</td>\n",
       "      <td>94.3</td>\n",
       "      <td>5.1</td>\n",
       "      <td>8.2</td>\n",
       "      <td>51</td>\n",
       "      <td>6.7</td>\n",
       "      <td>0.0</td>\n",
       "      <td>0.00</td>\n",
       "      <td>0.000000</td>\n",
       "    </tr>\n",
       "    <tr>\n",
       "      <th>1</th>\n",
       "      <td>7</td>\n",
       "      <td>4</td>\n",
       "      <td>oct</td>\n",
       "      <td>tue</td>\n",
       "      <td>90.6</td>\n",
       "      <td>35.4</td>\n",
       "      <td>669.1</td>\n",
       "      <td>6.7</td>\n",
       "      <td>18.0</td>\n",
       "      <td>33</td>\n",
       "      <td>0.9</td>\n",
       "      <td>0.0</td>\n",
       "      <td>0.00</td>\n",
       "      <td>0.000000</td>\n",
       "    </tr>\n",
       "    <tr>\n",
       "      <th>2</th>\n",
       "      <td>7</td>\n",
       "      <td>4</td>\n",
       "      <td>oct</td>\n",
       "      <td>sat</td>\n",
       "      <td>90.6</td>\n",
       "      <td>43.7</td>\n",
       "      <td>686.9</td>\n",
       "      <td>6.7</td>\n",
       "      <td>14.6</td>\n",
       "      <td>33</td>\n",
       "      <td>1.3</td>\n",
       "      <td>0.0</td>\n",
       "      <td>0.00</td>\n",
       "      <td>0.000000</td>\n",
       "    </tr>\n",
       "    <tr>\n",
       "      <th>3</th>\n",
       "      <td>8</td>\n",
       "      <td>6</td>\n",
       "      <td>mar</td>\n",
       "      <td>fri</td>\n",
       "      <td>91.7</td>\n",
       "      <td>33.3</td>\n",
       "      <td>77.5</td>\n",
       "      <td>9.0</td>\n",
       "      <td>8.3</td>\n",
       "      <td>97</td>\n",
       "      <td>4.0</td>\n",
       "      <td>0.2</td>\n",
       "      <td>0.00</td>\n",
       "      <td>0.000000</td>\n",
       "    </tr>\n",
       "    <tr>\n",
       "      <th>4</th>\n",
       "      <td>8</td>\n",
       "      <td>6</td>\n",
       "      <td>mar</td>\n",
       "      <td>sun</td>\n",
       "      <td>89.3</td>\n",
       "      <td>51.3</td>\n",
       "      <td>102.2</td>\n",
       "      <td>9.6</td>\n",
       "      <td>11.4</td>\n",
       "      <td>99</td>\n",
       "      <td>1.8</td>\n",
       "      <td>0.0</td>\n",
       "      <td>0.00</td>\n",
       "      <td>0.000000</td>\n",
       "    </tr>\n",
       "    <tr>\n",
       "      <th>...</th>\n",
       "      <td>...</td>\n",
       "      <td>...</td>\n",
       "      <td>...</td>\n",
       "      <td>...</td>\n",
       "      <td>...</td>\n",
       "      <td>...</td>\n",
       "      <td>...</td>\n",
       "      <td>...</td>\n",
       "      <td>...</td>\n",
       "      <td>...</td>\n",
       "      <td>...</td>\n",
       "      <td>...</td>\n",
       "      <td>...</td>\n",
       "      <td>...</td>\n",
       "    </tr>\n",
       "    <tr>\n",
       "      <th>512</th>\n",
       "      <td>4</td>\n",
       "      <td>3</td>\n",
       "      <td>aug</td>\n",
       "      <td>sun</td>\n",
       "      <td>81.6</td>\n",
       "      <td>56.7</td>\n",
       "      <td>665.6</td>\n",
       "      <td>1.9</td>\n",
       "      <td>27.8</td>\n",
       "      <td>32</td>\n",
       "      <td>2.7</td>\n",
       "      <td>0.0</td>\n",
       "      <td>6.44</td>\n",
       "      <td>1.862529</td>\n",
       "    </tr>\n",
       "    <tr>\n",
       "      <th>513</th>\n",
       "      <td>2</td>\n",
       "      <td>4</td>\n",
       "      <td>aug</td>\n",
       "      <td>sun</td>\n",
       "      <td>81.6</td>\n",
       "      <td>56.7</td>\n",
       "      <td>665.6</td>\n",
       "      <td>1.9</td>\n",
       "      <td>21.9</td>\n",
       "      <td>71</td>\n",
       "      <td>5.8</td>\n",
       "      <td>0.0</td>\n",
       "      <td>54.29</td>\n",
       "      <td>3.994340</td>\n",
       "    </tr>\n",
       "    <tr>\n",
       "      <th>514</th>\n",
       "      <td>7</td>\n",
       "      <td>4</td>\n",
       "      <td>aug</td>\n",
       "      <td>sun</td>\n",
       "      <td>81.6</td>\n",
       "      <td>56.7</td>\n",
       "      <td>665.6</td>\n",
       "      <td>1.9</td>\n",
       "      <td>21.2</td>\n",
       "      <td>70</td>\n",
       "      <td>6.7</td>\n",
       "      <td>0.0</td>\n",
       "      <td>11.16</td>\n",
       "      <td>2.412336</td>\n",
       "    </tr>\n",
       "    <tr>\n",
       "      <th>515</th>\n",
       "      <td>1</td>\n",
       "      <td>4</td>\n",
       "      <td>aug</td>\n",
       "      <td>sat</td>\n",
       "      <td>94.4</td>\n",
       "      <td>146.0</td>\n",
       "      <td>614.7</td>\n",
       "      <td>11.3</td>\n",
       "      <td>25.6</td>\n",
       "      <td>42</td>\n",
       "      <td>4.0</td>\n",
       "      <td>0.0</td>\n",
       "      <td>0.00</td>\n",
       "      <td>0.000000</td>\n",
       "    </tr>\n",
       "    <tr>\n",
       "      <th>516</th>\n",
       "      <td>6</td>\n",
       "      <td>3</td>\n",
       "      <td>nov</td>\n",
       "      <td>tue</td>\n",
       "      <td>79.5</td>\n",
       "      <td>3.0</td>\n",
       "      <td>106.7</td>\n",
       "      <td>1.1</td>\n",
       "      <td>11.8</td>\n",
       "      <td>31</td>\n",
       "      <td>4.5</td>\n",
       "      <td>0.0</td>\n",
       "      <td>0.00</td>\n",
       "      <td>0.000000</td>\n",
       "    </tr>\n",
       "  </tbody>\n",
       "</table>\n",
       "<p>517 rows × 14 columns</p>\n",
       "</div>"
      ],
      "text/plain": [
       "     X  Y month  day  FFMC    DMC     DC   ISI  temp  RH  wind  rain   area  \\\n",
       "0    7  5   mar  fri  86.2   26.2   94.3   5.1   8.2  51   6.7   0.0   0.00   \n",
       "1    7  4   oct  tue  90.6   35.4  669.1   6.7  18.0  33   0.9   0.0   0.00   \n",
       "2    7  4   oct  sat  90.6   43.7  686.9   6.7  14.6  33   1.3   0.0   0.00   \n",
       "3    8  6   mar  fri  91.7   33.3   77.5   9.0   8.3  97   4.0   0.2   0.00   \n",
       "4    8  6   mar  sun  89.3   51.3  102.2   9.6  11.4  99   1.8   0.0   0.00   \n",
       "..  .. ..   ...  ...   ...    ...    ...   ...   ...  ..   ...   ...    ...   \n",
       "512  4  3   aug  sun  81.6   56.7  665.6   1.9  27.8  32   2.7   0.0   6.44   \n",
       "513  2  4   aug  sun  81.6   56.7  665.6   1.9  21.9  71   5.8   0.0  54.29   \n",
       "514  7  4   aug  sun  81.6   56.7  665.6   1.9  21.2  70   6.7   0.0  11.16   \n",
       "515  1  4   aug  sat  94.4  146.0  614.7  11.3  25.6  42   4.0   0.0   0.00   \n",
       "516  6  3   nov  tue  79.5    3.0  106.7   1.1  11.8  31   4.5   0.0   0.00   \n",
       "\n",
       "     area_log  \n",
       "0    0.000000  \n",
       "1    0.000000  \n",
       "2    0.000000  \n",
       "3    0.000000  \n",
       "4    0.000000  \n",
       "..        ...  \n",
       "512  1.862529  \n",
       "513  3.994340  \n",
       "514  2.412336  \n",
       "515  0.000000  \n",
       "516  0.000000  \n",
       "\n",
       "[517 rows x 14 columns]"
      ]
     },
     "execution_count": 4,
     "metadata": {},
     "output_type": "execute_result"
    }
   ],
   "source": [
    "ff_dataset['area_log'] = np.where(ff_dataset['area'] ==  0, 0, np.log(ff_dataset['area']))\n",
    "ff_dataset"
   ]
  },
  {
   "cell_type": "code",
   "execution_count": 5,
   "id": "21be6649",
   "metadata": {
    "execution": {
     "iopub.execute_input": "2022-09-07T15:02:19.038594Z",
     "iopub.status.busy": "2022-09-07T15:02:19.038137Z",
     "iopub.status.idle": "2022-09-07T15:02:19.078614Z",
     "shell.execute_reply": "2022-09-07T15:02:19.077234Z"
    },
    "papermill": {
     "duration": 0.06166,
     "end_time": "2022-09-07T15:02:19.081754",
     "exception": false,
     "start_time": "2022-09-07T15:02:19.020094",
     "status": "completed"
    },
    "tags": []
   },
   "outputs": [
    {
     "data": {
      "text/html": [
       "<div>\n",
       "<style scoped>\n",
       "    .dataframe tbody tr th:only-of-type {\n",
       "        vertical-align: middle;\n",
       "    }\n",
       "\n",
       "    .dataframe tbody tr th {\n",
       "        vertical-align: top;\n",
       "    }\n",
       "\n",
       "    .dataframe thead th {\n",
       "        text-align: right;\n",
       "    }\n",
       "</style>\n",
       "<table border=\"1\" class=\"dataframe\">\n",
       "  <thead>\n",
       "    <tr style=\"text-align: right;\">\n",
       "      <th></th>\n",
       "      <th>X</th>\n",
       "      <th>Y</th>\n",
       "      <th>month</th>\n",
       "      <th>day</th>\n",
       "      <th>FFMC</th>\n",
       "      <th>DMC</th>\n",
       "      <th>DC</th>\n",
       "      <th>ISI</th>\n",
       "      <th>temp</th>\n",
       "      <th>RH</th>\n",
       "      <th>wind</th>\n",
       "      <th>rain</th>\n",
       "      <th>area</th>\n",
       "      <th>area_log</th>\n",
       "    </tr>\n",
       "  </thead>\n",
       "  <tbody>\n",
       "    <tr>\n",
       "      <th>138</th>\n",
       "      <td>9</td>\n",
       "      <td>9</td>\n",
       "      <td>jul</td>\n",
       "      <td>tue</td>\n",
       "      <td>85.8</td>\n",
       "      <td>48.3</td>\n",
       "      <td>313.4</td>\n",
       "      <td>3.9</td>\n",
       "      <td>18.0</td>\n",
       "      <td>42</td>\n",
       "      <td>2.7</td>\n",
       "      <td>0.0</td>\n",
       "      <td>0.36</td>\n",
       "      <td>-1.021651</td>\n",
       "    </tr>\n",
       "    <tr>\n",
       "      <th>139</th>\n",
       "      <td>1</td>\n",
       "      <td>4</td>\n",
       "      <td>sep</td>\n",
       "      <td>tue</td>\n",
       "      <td>91.0</td>\n",
       "      <td>129.5</td>\n",
       "      <td>692.6</td>\n",
       "      <td>7.0</td>\n",
       "      <td>21.7</td>\n",
       "      <td>38</td>\n",
       "      <td>2.2</td>\n",
       "      <td>0.0</td>\n",
       "      <td>0.43</td>\n",
       "      <td>-0.843970</td>\n",
       "    </tr>\n",
       "    <tr>\n",
       "      <th>140</th>\n",
       "      <td>2</td>\n",
       "      <td>5</td>\n",
       "      <td>sep</td>\n",
       "      <td>mon</td>\n",
       "      <td>90.9</td>\n",
       "      <td>126.5</td>\n",
       "      <td>686.5</td>\n",
       "      <td>7.0</td>\n",
       "      <td>21.9</td>\n",
       "      <td>39</td>\n",
       "      <td>1.8</td>\n",
       "      <td>0.0</td>\n",
       "      <td>0.47</td>\n",
       "      <td>-0.755023</td>\n",
       "    </tr>\n",
       "    <tr>\n",
       "      <th>141</th>\n",
       "      <td>1</td>\n",
       "      <td>2</td>\n",
       "      <td>aug</td>\n",
       "      <td>wed</td>\n",
       "      <td>95.5</td>\n",
       "      <td>99.9</td>\n",
       "      <td>513.3</td>\n",
       "      <td>13.2</td>\n",
       "      <td>23.3</td>\n",
       "      <td>31</td>\n",
       "      <td>4.5</td>\n",
       "      <td>0.0</td>\n",
       "      <td>0.55</td>\n",
       "      <td>-0.597837</td>\n",
       "    </tr>\n",
       "    <tr>\n",
       "      <th>142</th>\n",
       "      <td>8</td>\n",
       "      <td>6</td>\n",
       "      <td>aug</td>\n",
       "      <td>fri</td>\n",
       "      <td>90.1</td>\n",
       "      <td>108.0</td>\n",
       "      <td>529.8</td>\n",
       "      <td>12.5</td>\n",
       "      <td>21.2</td>\n",
       "      <td>51</td>\n",
       "      <td>8.9</td>\n",
       "      <td>0.0</td>\n",
       "      <td>0.61</td>\n",
       "      <td>-0.494296</td>\n",
       "    </tr>\n",
       "    <tr>\n",
       "      <th>143</th>\n",
       "      <td>1</td>\n",
       "      <td>2</td>\n",
       "      <td>jul</td>\n",
       "      <td>sat</td>\n",
       "      <td>90.0</td>\n",
       "      <td>51.3</td>\n",
       "      <td>296.3</td>\n",
       "      <td>8.7</td>\n",
       "      <td>16.6</td>\n",
       "      <td>53</td>\n",
       "      <td>5.4</td>\n",
       "      <td>0.0</td>\n",
       "      <td>0.71</td>\n",
       "      <td>-0.342490</td>\n",
       "    </tr>\n",
       "    <tr>\n",
       "      <th>144</th>\n",
       "      <td>2</td>\n",
       "      <td>5</td>\n",
       "      <td>aug</td>\n",
       "      <td>wed</td>\n",
       "      <td>95.5</td>\n",
       "      <td>99.9</td>\n",
       "      <td>513.3</td>\n",
       "      <td>13.2</td>\n",
       "      <td>23.8</td>\n",
       "      <td>32</td>\n",
       "      <td>5.4</td>\n",
       "      <td>0.0</td>\n",
       "      <td>0.77</td>\n",
       "      <td>-0.261365</td>\n",
       "    </tr>\n",
       "    <tr>\n",
       "      <th>145</th>\n",
       "      <td>6</td>\n",
       "      <td>5</td>\n",
       "      <td>aug</td>\n",
       "      <td>thu</td>\n",
       "      <td>95.2</td>\n",
       "      <td>131.7</td>\n",
       "      <td>578.8</td>\n",
       "      <td>10.4</td>\n",
       "      <td>27.4</td>\n",
       "      <td>22</td>\n",
       "      <td>4.0</td>\n",
       "      <td>0.0</td>\n",
       "      <td>0.90</td>\n",
       "      <td>-0.105361</td>\n",
       "    </tr>\n",
       "    <tr>\n",
       "      <th>146</th>\n",
       "      <td>5</td>\n",
       "      <td>4</td>\n",
       "      <td>mar</td>\n",
       "      <td>mon</td>\n",
       "      <td>90.1</td>\n",
       "      <td>39.7</td>\n",
       "      <td>86.6</td>\n",
       "      <td>6.2</td>\n",
       "      <td>13.2</td>\n",
       "      <td>40</td>\n",
       "      <td>5.4</td>\n",
       "      <td>0.0</td>\n",
       "      <td>0.95</td>\n",
       "      <td>-0.051293</td>\n",
       "    </tr>\n",
       "    <tr>\n",
       "      <th>147</th>\n",
       "      <td>8</td>\n",
       "      <td>3</td>\n",
       "      <td>sep</td>\n",
       "      <td>tue</td>\n",
       "      <td>84.4</td>\n",
       "      <td>73.4</td>\n",
       "      <td>671.9</td>\n",
       "      <td>3.2</td>\n",
       "      <td>24.2</td>\n",
       "      <td>28</td>\n",
       "      <td>3.6</td>\n",
       "      <td>0.0</td>\n",
       "      <td>0.96</td>\n",
       "      <td>-0.040822</td>\n",
       "    </tr>\n",
       "    <tr>\n",
       "      <th>245</th>\n",
       "      <td>3</td>\n",
       "      <td>4</td>\n",
       "      <td>aug</td>\n",
       "      <td>sun</td>\n",
       "      <td>91.8</td>\n",
       "      <td>175.1</td>\n",
       "      <td>700.7</td>\n",
       "      <td>13.8</td>\n",
       "      <td>26.8</td>\n",
       "      <td>38</td>\n",
       "      <td>6.3</td>\n",
       "      <td>0.0</td>\n",
       "      <td>0.76</td>\n",
       "      <td>-0.274437</td>\n",
       "    </tr>\n",
       "    <tr>\n",
       "      <th>246</th>\n",
       "      <td>5</td>\n",
       "      <td>4</td>\n",
       "      <td>aug</td>\n",
       "      <td>sun</td>\n",
       "      <td>91.8</td>\n",
       "      <td>175.1</td>\n",
       "      <td>700.7</td>\n",
       "      <td>13.8</td>\n",
       "      <td>25.7</td>\n",
       "      <td>39</td>\n",
       "      <td>5.4</td>\n",
       "      <td>0.0</td>\n",
       "      <td>0.09</td>\n",
       "      <td>-2.407946</td>\n",
       "    </tr>\n",
       "    <tr>\n",
       "      <th>247</th>\n",
       "      <td>2</td>\n",
       "      <td>4</td>\n",
       "      <td>aug</td>\n",
       "      <td>wed</td>\n",
       "      <td>92.2</td>\n",
       "      <td>91.6</td>\n",
       "      <td>503.6</td>\n",
       "      <td>9.6</td>\n",
       "      <td>20.7</td>\n",
       "      <td>70</td>\n",
       "      <td>2.2</td>\n",
       "      <td>0.0</td>\n",
       "      <td>0.75</td>\n",
       "      <td>-0.287682</td>\n",
       "    </tr>\n",
       "    <tr>\n",
       "      <th>250</th>\n",
       "      <td>8</td>\n",
       "      <td>5</td>\n",
       "      <td>aug</td>\n",
       "      <td>wed</td>\n",
       "      <td>93.1</td>\n",
       "      <td>157.3</td>\n",
       "      <td>666.7</td>\n",
       "      <td>13.5</td>\n",
       "      <td>26.8</td>\n",
       "      <td>25</td>\n",
       "      <td>3.1</td>\n",
       "      <td>0.0</td>\n",
       "      <td>0.68</td>\n",
       "      <td>-0.385662</td>\n",
       "    </tr>\n",
       "    <tr>\n",
       "      <th>251</th>\n",
       "      <td>8</td>\n",
       "      <td>5</td>\n",
       "      <td>aug</td>\n",
       "      <td>wed</td>\n",
       "      <td>93.1</td>\n",
       "      <td>157.3</td>\n",
       "      <td>666.7</td>\n",
       "      <td>13.5</td>\n",
       "      <td>24.0</td>\n",
       "      <td>36</td>\n",
       "      <td>3.1</td>\n",
       "      <td>0.0</td>\n",
       "      <td>0.24</td>\n",
       "      <td>-1.427116</td>\n",
       "    </tr>\n",
       "    <tr>\n",
       "      <th>252</th>\n",
       "      <td>6</td>\n",
       "      <td>5</td>\n",
       "      <td>aug</td>\n",
       "      <td>wed</td>\n",
       "      <td>93.1</td>\n",
       "      <td>157.3</td>\n",
       "      <td>666.7</td>\n",
       "      <td>13.5</td>\n",
       "      <td>22.1</td>\n",
       "      <td>37</td>\n",
       "      <td>3.6</td>\n",
       "      <td>0.0</td>\n",
       "      <td>0.21</td>\n",
       "      <td>-1.560648</td>\n",
       "    </tr>\n",
       "    <tr>\n",
       "      <th>257</th>\n",
       "      <td>4</td>\n",
       "      <td>3</td>\n",
       "      <td>aug</td>\n",
       "      <td>sat</td>\n",
       "      <td>94.2</td>\n",
       "      <td>117.2</td>\n",
       "      <td>581.1</td>\n",
       "      <td>11.0</td>\n",
       "      <td>21.4</td>\n",
       "      <td>44</td>\n",
       "      <td>2.7</td>\n",
       "      <td>0.0</td>\n",
       "      <td>0.68</td>\n",
       "      <td>-0.385662</td>\n",
       "    </tr>\n",
       "    <tr>\n",
       "      <th>265</th>\n",
       "      <td>4</td>\n",
       "      <td>4</td>\n",
       "      <td>aug</td>\n",
       "      <td>tue</td>\n",
       "      <td>93.7</td>\n",
       "      <td>102.2</td>\n",
       "      <td>550.3</td>\n",
       "      <td>14.6</td>\n",
       "      <td>22.1</td>\n",
       "      <td>54</td>\n",
       "      <td>7.6</td>\n",
       "      <td>0.0</td>\n",
       "      <td>0.79</td>\n",
       "      <td>-0.235722</td>\n",
       "    </tr>\n",
       "    <tr>\n",
       "      <th>266</th>\n",
       "      <td>6</td>\n",
       "      <td>5</td>\n",
       "      <td>aug</td>\n",
       "      <td>tue</td>\n",
       "      <td>94.3</td>\n",
       "      <td>131.7</td>\n",
       "      <td>607.1</td>\n",
       "      <td>22.7</td>\n",
       "      <td>19.4</td>\n",
       "      <td>55</td>\n",
       "      <td>4.0</td>\n",
       "      <td>0.0</td>\n",
       "      <td>0.17</td>\n",
       "      <td>-1.771957</td>\n",
       "    </tr>\n",
       "    <tr>\n",
       "      <th>270</th>\n",
       "      <td>2</td>\n",
       "      <td>2</td>\n",
       "      <td>aug</td>\n",
       "      <td>tue</td>\n",
       "      <td>92.1</td>\n",
       "      <td>152.6</td>\n",
       "      <td>658.2</td>\n",
       "      <td>14.3</td>\n",
       "      <td>21.8</td>\n",
       "      <td>56</td>\n",
       "      <td>3.1</td>\n",
       "      <td>0.0</td>\n",
       "      <td>0.52</td>\n",
       "      <td>-0.653926</td>\n",
       "    </tr>\n",
       "    <tr>\n",
       "      <th>296</th>\n",
       "      <td>6</td>\n",
       "      <td>4</td>\n",
       "      <td>jun</td>\n",
       "      <td>sun</td>\n",
       "      <td>90.4</td>\n",
       "      <td>89.5</td>\n",
       "      <td>290.8</td>\n",
       "      <td>6.4</td>\n",
       "      <td>14.3</td>\n",
       "      <td>46</td>\n",
       "      <td>1.8</td>\n",
       "      <td>0.0</td>\n",
       "      <td>0.90</td>\n",
       "      <td>-0.105361</td>\n",
       "    </tr>\n",
       "    <tr>\n",
       "      <th>306</th>\n",
       "      <td>7</td>\n",
       "      <td>4</td>\n",
       "      <td>sep</td>\n",
       "      <td>sun</td>\n",
       "      <td>89.6</td>\n",
       "      <td>84.1</td>\n",
       "      <td>714.3</td>\n",
       "      <td>5.7</td>\n",
       "      <td>17.1</td>\n",
       "      <td>53</td>\n",
       "      <td>5.4</td>\n",
       "      <td>0.0</td>\n",
       "      <td>0.41</td>\n",
       "      <td>-0.891598</td>\n",
       "    </tr>\n",
       "    <tr>\n",
       "      <th>362</th>\n",
       "      <td>7</td>\n",
       "      <td>4</td>\n",
       "      <td>sep</td>\n",
       "      <td>fri</td>\n",
       "      <td>88.2</td>\n",
       "      <td>55.2</td>\n",
       "      <td>732.3</td>\n",
       "      <td>11.6</td>\n",
       "      <td>15.2</td>\n",
       "      <td>64</td>\n",
       "      <td>3.1</td>\n",
       "      <td>0.0</td>\n",
       "      <td>0.52</td>\n",
       "      <td>-0.653926</td>\n",
       "    </tr>\n",
       "    <tr>\n",
       "      <th>423</th>\n",
       "      <td>1</td>\n",
       "      <td>3</td>\n",
       "      <td>sep</td>\n",
       "      <td>sat</td>\n",
       "      <td>91.2</td>\n",
       "      <td>94.3</td>\n",
       "      <td>744.4</td>\n",
       "      <td>8.4</td>\n",
       "      <td>22.3</td>\n",
       "      <td>48</td>\n",
       "      <td>4.0</td>\n",
       "      <td>0.0</td>\n",
       "      <td>0.72</td>\n",
       "      <td>-0.328504</td>\n",
       "    </tr>\n",
       "    <tr>\n",
       "      <th>436</th>\n",
       "      <td>8</td>\n",
       "      <td>6</td>\n",
       "      <td>aug</td>\n",
       "      <td>mon</td>\n",
       "      <td>92.1</td>\n",
       "      <td>207.0</td>\n",
       "      <td>672.6</td>\n",
       "      <td>8.2</td>\n",
       "      <td>26.8</td>\n",
       "      <td>35</td>\n",
       "      <td>1.3</td>\n",
       "      <td>0.0</td>\n",
       "      <td>0.54</td>\n",
       "      <td>-0.616186</td>\n",
       "    </tr>\n",
       "    <tr>\n",
       "      <th>439</th>\n",
       "      <td>1</td>\n",
       "      <td>3</td>\n",
       "      <td>sep</td>\n",
       "      <td>fri</td>\n",
       "      <td>91.1</td>\n",
       "      <td>91.3</td>\n",
       "      <td>738.1</td>\n",
       "      <td>7.2</td>\n",
       "      <td>19.1</td>\n",
       "      <td>46</td>\n",
       "      <td>2.2</td>\n",
       "      <td>0.0</td>\n",
       "      <td>0.33</td>\n",
       "      <td>-1.108663</td>\n",
       "    </tr>\n",
       "    <tr>\n",
       "      <th>510</th>\n",
       "      <td>6</td>\n",
       "      <td>5</td>\n",
       "      <td>aug</td>\n",
       "      <td>fri</td>\n",
       "      <td>91.0</td>\n",
       "      <td>166.9</td>\n",
       "      <td>752.6</td>\n",
       "      <td>7.1</td>\n",
       "      <td>18.2</td>\n",
       "      <td>62</td>\n",
       "      <td>5.4</td>\n",
       "      <td>0.0</td>\n",
       "      <td>0.43</td>\n",
       "      <td>-0.843970</td>\n",
       "    </tr>\n",
       "  </tbody>\n",
       "</table>\n",
       "</div>"
      ],
      "text/plain": [
       "     X  Y month  day  FFMC    DMC     DC   ISI  temp  RH  wind  rain  area  \\\n",
       "138  9  9   jul  tue  85.8   48.3  313.4   3.9  18.0  42   2.7   0.0  0.36   \n",
       "139  1  4   sep  tue  91.0  129.5  692.6   7.0  21.7  38   2.2   0.0  0.43   \n",
       "140  2  5   sep  mon  90.9  126.5  686.5   7.0  21.9  39   1.8   0.0  0.47   \n",
       "141  1  2   aug  wed  95.5   99.9  513.3  13.2  23.3  31   4.5   0.0  0.55   \n",
       "142  8  6   aug  fri  90.1  108.0  529.8  12.5  21.2  51   8.9   0.0  0.61   \n",
       "143  1  2   jul  sat  90.0   51.3  296.3   8.7  16.6  53   5.4   0.0  0.71   \n",
       "144  2  5   aug  wed  95.5   99.9  513.3  13.2  23.8  32   5.4   0.0  0.77   \n",
       "145  6  5   aug  thu  95.2  131.7  578.8  10.4  27.4  22   4.0   0.0  0.90   \n",
       "146  5  4   mar  mon  90.1   39.7   86.6   6.2  13.2  40   5.4   0.0  0.95   \n",
       "147  8  3   sep  tue  84.4   73.4  671.9   3.2  24.2  28   3.6   0.0  0.96   \n",
       "245  3  4   aug  sun  91.8  175.1  700.7  13.8  26.8  38   6.3   0.0  0.76   \n",
       "246  5  4   aug  sun  91.8  175.1  700.7  13.8  25.7  39   5.4   0.0  0.09   \n",
       "247  2  4   aug  wed  92.2   91.6  503.6   9.6  20.7  70   2.2   0.0  0.75   \n",
       "250  8  5   aug  wed  93.1  157.3  666.7  13.5  26.8  25   3.1   0.0  0.68   \n",
       "251  8  5   aug  wed  93.1  157.3  666.7  13.5  24.0  36   3.1   0.0  0.24   \n",
       "252  6  5   aug  wed  93.1  157.3  666.7  13.5  22.1  37   3.6   0.0  0.21   \n",
       "257  4  3   aug  sat  94.2  117.2  581.1  11.0  21.4  44   2.7   0.0  0.68   \n",
       "265  4  4   aug  tue  93.7  102.2  550.3  14.6  22.1  54   7.6   0.0  0.79   \n",
       "266  6  5   aug  tue  94.3  131.7  607.1  22.7  19.4  55   4.0   0.0  0.17   \n",
       "270  2  2   aug  tue  92.1  152.6  658.2  14.3  21.8  56   3.1   0.0  0.52   \n",
       "296  6  4   jun  sun  90.4   89.5  290.8   6.4  14.3  46   1.8   0.0  0.90   \n",
       "306  7  4   sep  sun  89.6   84.1  714.3   5.7  17.1  53   5.4   0.0  0.41   \n",
       "362  7  4   sep  fri  88.2   55.2  732.3  11.6  15.2  64   3.1   0.0  0.52   \n",
       "423  1  3   sep  sat  91.2   94.3  744.4   8.4  22.3  48   4.0   0.0  0.72   \n",
       "436  8  6   aug  mon  92.1  207.0  672.6   8.2  26.8  35   1.3   0.0  0.54   \n",
       "439  1  3   sep  fri  91.1   91.3  738.1   7.2  19.1  46   2.2   0.0  0.33   \n",
       "510  6  5   aug  fri  91.0  166.9  752.6   7.1  18.2  62   5.4   0.0  0.43   \n",
       "\n",
       "     area_log  \n",
       "138 -1.021651  \n",
       "139 -0.843970  \n",
       "140 -0.755023  \n",
       "141 -0.597837  \n",
       "142 -0.494296  \n",
       "143 -0.342490  \n",
       "144 -0.261365  \n",
       "145 -0.105361  \n",
       "146 -0.051293  \n",
       "147 -0.040822  \n",
       "245 -0.274437  \n",
       "246 -2.407946  \n",
       "247 -0.287682  \n",
       "250 -0.385662  \n",
       "251 -1.427116  \n",
       "252 -1.560648  \n",
       "257 -0.385662  \n",
       "265 -0.235722  \n",
       "266 -1.771957  \n",
       "270 -0.653926  \n",
       "296 -0.105361  \n",
       "306 -0.891598  \n",
       "362 -0.653926  \n",
       "423 -0.328504  \n",
       "436 -0.616186  \n",
       "439 -1.108663  \n",
       "510 -0.843970  "
      ]
     },
     "execution_count": 5,
     "metadata": {},
     "output_type": "execute_result"
    }
   ],
   "source": [
    "only_negs = ff_dataset.loc[ff_dataset['area_log'] < 0]\n",
    "only_negs"
   ]
  },
  {
   "cell_type": "code",
   "execution_count": 6,
   "id": "f68484a9",
   "metadata": {
    "execution": {
     "iopub.execute_input": "2022-09-07T15:02:19.117117Z",
     "iopub.status.busy": "2022-09-07T15:02:19.116390Z",
     "iopub.status.idle": "2022-09-07T15:02:19.143268Z",
     "shell.execute_reply": "2022-09-07T15:02:19.142317Z"
    },
    "papermill": {
     "duration": 0.047072,
     "end_time": "2022-09-07T15:02:19.145440",
     "exception": false,
     "start_time": "2022-09-07T15:02:19.098368",
     "status": "completed"
    },
    "tags": []
   },
   "outputs": [
    {
     "data": {
      "text/html": [
       "<div>\n",
       "<style scoped>\n",
       "    .dataframe tbody tr th:only-of-type {\n",
       "        vertical-align: middle;\n",
       "    }\n",
       "\n",
       "    .dataframe tbody tr th {\n",
       "        vertical-align: top;\n",
       "    }\n",
       "\n",
       "    .dataframe thead th {\n",
       "        text-align: right;\n",
       "    }\n",
       "</style>\n",
       "<table border=\"1\" class=\"dataframe\">\n",
       "  <thead>\n",
       "    <tr style=\"text-align: right;\">\n",
       "      <th></th>\n",
       "      <th>FFMC</th>\n",
       "      <th>DMC</th>\n",
       "      <th>DC</th>\n",
       "      <th>ISI</th>\n",
       "      <th>temp</th>\n",
       "      <th>RH</th>\n",
       "      <th>wind</th>\n",
       "      <th>rain</th>\n",
       "      <th>area_log</th>\n",
       "    </tr>\n",
       "  </thead>\n",
       "  <tbody>\n",
       "    <tr>\n",
       "      <th>0</th>\n",
       "      <td>86.2</td>\n",
       "      <td>26.2</td>\n",
       "      <td>94.3</td>\n",
       "      <td>5.1</td>\n",
       "      <td>8.2</td>\n",
       "      <td>51</td>\n",
       "      <td>6.7</td>\n",
       "      <td>0.0</td>\n",
       "      <td>0.000000</td>\n",
       "    </tr>\n",
       "    <tr>\n",
       "      <th>1</th>\n",
       "      <td>90.6</td>\n",
       "      <td>35.4</td>\n",
       "      <td>669.1</td>\n",
       "      <td>6.7</td>\n",
       "      <td>18.0</td>\n",
       "      <td>33</td>\n",
       "      <td>0.9</td>\n",
       "      <td>0.0</td>\n",
       "      <td>0.000000</td>\n",
       "    </tr>\n",
       "    <tr>\n",
       "      <th>2</th>\n",
       "      <td>90.6</td>\n",
       "      <td>43.7</td>\n",
       "      <td>686.9</td>\n",
       "      <td>6.7</td>\n",
       "      <td>14.6</td>\n",
       "      <td>33</td>\n",
       "      <td>1.3</td>\n",
       "      <td>0.0</td>\n",
       "      <td>0.000000</td>\n",
       "    </tr>\n",
       "    <tr>\n",
       "      <th>3</th>\n",
       "      <td>91.7</td>\n",
       "      <td>33.3</td>\n",
       "      <td>77.5</td>\n",
       "      <td>9.0</td>\n",
       "      <td>8.3</td>\n",
       "      <td>97</td>\n",
       "      <td>4.0</td>\n",
       "      <td>0.2</td>\n",
       "      <td>0.000000</td>\n",
       "    </tr>\n",
       "    <tr>\n",
       "      <th>4</th>\n",
       "      <td>89.3</td>\n",
       "      <td>51.3</td>\n",
       "      <td>102.2</td>\n",
       "      <td>9.6</td>\n",
       "      <td>11.4</td>\n",
       "      <td>99</td>\n",
       "      <td>1.8</td>\n",
       "      <td>0.0</td>\n",
       "      <td>0.000000</td>\n",
       "    </tr>\n",
       "    <tr>\n",
       "      <th>...</th>\n",
       "      <td>...</td>\n",
       "      <td>...</td>\n",
       "      <td>...</td>\n",
       "      <td>...</td>\n",
       "      <td>...</td>\n",
       "      <td>...</td>\n",
       "      <td>...</td>\n",
       "      <td>...</td>\n",
       "      <td>...</td>\n",
       "    </tr>\n",
       "    <tr>\n",
       "      <th>512</th>\n",
       "      <td>81.6</td>\n",
       "      <td>56.7</td>\n",
       "      <td>665.6</td>\n",
       "      <td>1.9</td>\n",
       "      <td>27.8</td>\n",
       "      <td>32</td>\n",
       "      <td>2.7</td>\n",
       "      <td>0.0</td>\n",
       "      <td>1.862529</td>\n",
       "    </tr>\n",
       "    <tr>\n",
       "      <th>513</th>\n",
       "      <td>81.6</td>\n",
       "      <td>56.7</td>\n",
       "      <td>665.6</td>\n",
       "      <td>1.9</td>\n",
       "      <td>21.9</td>\n",
       "      <td>71</td>\n",
       "      <td>5.8</td>\n",
       "      <td>0.0</td>\n",
       "      <td>3.994340</td>\n",
       "    </tr>\n",
       "    <tr>\n",
       "      <th>514</th>\n",
       "      <td>81.6</td>\n",
       "      <td>56.7</td>\n",
       "      <td>665.6</td>\n",
       "      <td>1.9</td>\n",
       "      <td>21.2</td>\n",
       "      <td>70</td>\n",
       "      <td>6.7</td>\n",
       "      <td>0.0</td>\n",
       "      <td>2.412336</td>\n",
       "    </tr>\n",
       "    <tr>\n",
       "      <th>515</th>\n",
       "      <td>94.4</td>\n",
       "      <td>146.0</td>\n",
       "      <td>614.7</td>\n",
       "      <td>11.3</td>\n",
       "      <td>25.6</td>\n",
       "      <td>42</td>\n",
       "      <td>4.0</td>\n",
       "      <td>0.0</td>\n",
       "      <td>0.000000</td>\n",
       "    </tr>\n",
       "    <tr>\n",
       "      <th>516</th>\n",
       "      <td>79.5</td>\n",
       "      <td>3.0</td>\n",
       "      <td>106.7</td>\n",
       "      <td>1.1</td>\n",
       "      <td>11.8</td>\n",
       "      <td>31</td>\n",
       "      <td>4.5</td>\n",
       "      <td>0.0</td>\n",
       "      <td>0.000000</td>\n",
       "    </tr>\n",
       "  </tbody>\n",
       "</table>\n",
       "<p>517 rows × 9 columns</p>\n",
       "</div>"
      ],
      "text/plain": [
       "     FFMC    DMC     DC   ISI  temp  RH  wind  rain  area_log\n",
       "0    86.2   26.2   94.3   5.1   8.2  51   6.7   0.0  0.000000\n",
       "1    90.6   35.4  669.1   6.7  18.0  33   0.9   0.0  0.000000\n",
       "2    90.6   43.7  686.9   6.7  14.6  33   1.3   0.0  0.000000\n",
       "3    91.7   33.3   77.5   9.0   8.3  97   4.0   0.2  0.000000\n",
       "4    89.3   51.3  102.2   9.6  11.4  99   1.8   0.0  0.000000\n",
       "..    ...    ...    ...   ...   ...  ..   ...   ...       ...\n",
       "512  81.6   56.7  665.6   1.9  27.8  32   2.7   0.0  1.862529\n",
       "513  81.6   56.7  665.6   1.9  21.9  71   5.8   0.0  3.994340\n",
       "514  81.6   56.7  665.6   1.9  21.2  70   6.7   0.0  2.412336\n",
       "515  94.4  146.0  614.7  11.3  25.6  42   4.0   0.0  0.000000\n",
       "516  79.5    3.0  106.7   1.1  11.8  31   4.5   0.0  0.000000\n",
       "\n",
       "[517 rows x 9 columns]"
      ]
     },
     "execution_count": 6,
     "metadata": {},
     "output_type": "execute_result"
    }
   ],
   "source": [
    "target_dataset = ff_dataset.drop(['month', 'day', 'X', 'Y', 'area'], axis=1)\n",
    "target_dataset"
   ]
  },
  {
   "cell_type": "markdown",
   "id": "0787e652",
   "metadata": {
    "papermill": {
     "duration": 0.017103,
     "end_time": "2022-09-07T15:02:19.180479",
     "exception": false,
     "start_time": "2022-09-07T15:02:19.163376",
     "status": "completed"
    },
    "tags": []
   },
   "source": [
    "**Trying XGBoost**"
   ]
  },
  {
   "cell_type": "code",
   "execution_count": 7,
   "id": "6f0ce50e",
   "metadata": {
    "execution": {
     "iopub.execute_input": "2022-09-07T15:02:19.216377Z",
     "iopub.status.busy": "2022-09-07T15:02:19.215949Z",
     "iopub.status.idle": "2022-09-07T15:02:19.230897Z",
     "shell.execute_reply": "2022-09-07T15:02:19.229975Z"
    },
    "papermill": {
     "duration": 0.036032,
     "end_time": "2022-09-07T15:02:19.233602",
     "exception": false,
     "start_time": "2022-09-07T15:02:19.197570",
     "status": "completed"
    },
    "tags": []
   },
   "outputs": [
    {
     "name": "stdout",
     "output_type": "stream",
     "text": [
      "     FFMC    DMC     DC   ISI  temp  RH  wind  rain\n",
      "0    86.2   26.2   94.3   5.1   8.2  51   6.7   0.0\n",
      "1    90.6   35.4  669.1   6.7  18.0  33   0.9   0.0\n",
      "2    90.6   43.7  686.9   6.7  14.6  33   1.3   0.0\n",
      "3    91.7   33.3   77.5   9.0   8.3  97   4.0   0.2\n",
      "4    89.3   51.3  102.2   9.6  11.4  99   1.8   0.0\n",
      "..    ...    ...    ...   ...   ...  ..   ...   ...\n",
      "512  81.6   56.7  665.6   1.9  27.8  32   2.7   0.0\n",
      "513  81.6   56.7  665.6   1.9  21.9  71   5.8   0.0\n",
      "514  81.6   56.7  665.6   1.9  21.2  70   6.7   0.0\n",
      "515  94.4  146.0  614.7  11.3  25.6  42   4.0   0.0\n",
      "516  79.5    3.0  106.7   1.1  11.8  31   4.5   0.0\n",
      "\n",
      "[517 rows x 8 columns]\n",
      "0      0.000000\n",
      "1      0.000000\n",
      "2      0.000000\n",
      "3      0.000000\n",
      "4      0.000000\n",
      "         ...   \n",
      "512    1.862529\n",
      "513    3.994340\n",
      "514    2.412336\n",
      "515    0.000000\n",
      "516    0.000000\n",
      "Name: area_log, Length: 517, dtype: float64\n"
     ]
    }
   ],
   "source": [
    "# for xgboost\n",
    "XTarget, yLabel = target_dataset.iloc[:,:-1],target_dataset.iloc[:,-1]\n",
    "print(XTarget)\n",
    "print(yLabel)"
   ]
  },
  {
   "cell_type": "code",
   "execution_count": 8,
   "id": "82a9e57b",
   "metadata": {
    "execution": {
     "iopub.execute_input": "2022-09-07T15:02:19.269661Z",
     "iopub.status.busy": "2022-09-07T15:02:19.269206Z",
     "iopub.status.idle": "2022-09-07T15:02:19.294389Z",
     "shell.execute_reply": "2022-09-07T15:02:19.293367Z"
    },
    "papermill": {
     "duration": 0.046487,
     "end_time": "2022-09-07T15:02:19.297211",
     "exception": false,
     "start_time": "2022-09-07T15:02:19.250724",
     "status": "completed"
    },
    "tags": []
   },
   "outputs": [],
   "source": [
    "# for xgboost\n",
    "data_dmatrix = xgb.DMatrix(data=XTarget,label=yLabel)"
   ]
  },
  {
   "cell_type": "code",
   "execution_count": 9,
   "id": "b5322923",
   "metadata": {
    "execution": {
     "iopub.execute_input": "2022-09-07T15:02:19.334754Z",
     "iopub.status.busy": "2022-09-07T15:02:19.334312Z",
     "iopub.status.idle": "2022-09-07T15:02:19.343348Z",
     "shell.execute_reply": "2022-09-07T15:02:19.342416Z"
    },
    "papermill": {
     "duration": 0.029648,
     "end_time": "2022-09-07T15:02:19.345651",
     "exception": false,
     "start_time": "2022-09-07T15:02:19.316003",
     "status": "completed"
    },
    "tags": []
   },
   "outputs": [],
   "source": [
    "from sklearn.model_selection import train_test_split\n",
    "\n",
    "X_train, X_test, y_train, y_test = train_test_split(XTarget, yLabel, test_size=0.2, random_state=123)"
   ]
  },
  {
   "cell_type": "code",
   "execution_count": 10,
   "id": "627bb29a",
   "metadata": {
    "execution": {
     "iopub.execute_input": "2022-09-07T15:02:19.382335Z",
     "iopub.status.busy": "2022-09-07T15:02:19.381639Z",
     "iopub.status.idle": "2022-09-07T15:02:19.386499Z",
     "shell.execute_reply": "2022-09-07T15:02:19.385703Z"
    },
    "papermill": {
     "duration": 0.026063,
     "end_time": "2022-09-07T15:02:19.388631",
     "exception": false,
     "start_time": "2022-09-07T15:02:19.362568",
     "status": "completed"
    },
    "tags": []
   },
   "outputs": [],
   "source": [
    "# using regressor since we are using regression against area\n",
    "xg_reg = xgb.XGBRegressor(objective ='reg:linear', colsample_bytree = 0.3, learning_rate = 0.1,\n",
    "                max_depth = 5, alpha = 10, n_estimators = 10)"
   ]
  },
  {
   "cell_type": "code",
   "execution_count": 11,
   "id": "c1aaa36d",
   "metadata": {
    "execution": {
     "iopub.execute_input": "2022-09-07T15:02:19.424486Z",
     "iopub.status.busy": "2022-09-07T15:02:19.423766Z",
     "iopub.status.idle": "2022-09-07T15:02:19.482091Z",
     "shell.execute_reply": "2022-09-07T15:02:19.480969Z"
    },
    "papermill": {
     "duration": 0.080586,
     "end_time": "2022-09-07T15:02:19.485982",
     "exception": false,
     "start_time": "2022-09-07T15:02:19.405396",
     "status": "completed"
    },
    "tags": []
   },
   "outputs": [
    {
     "name": "stdout",
     "output_type": "stream",
     "text": [
      "[15:02:19] WARNING: ../src/objective/regression_obj.cu:203: reg:linear is now deprecated in favor of reg:squarederror.\n"
     ]
    }
   ],
   "source": [
    "xg_reg.fit(X_train,y_train)\n",
    "\n",
    "preds = xg_reg.predict(X_test)\n"
   ]
  },
  {
   "cell_type": "code",
   "execution_count": 12,
   "id": "71a3df09",
   "metadata": {
    "execution": {
     "iopub.execute_input": "2022-09-07T15:02:19.524556Z",
     "iopub.status.busy": "2022-09-07T15:02:19.523906Z",
     "iopub.status.idle": "2022-09-07T15:02:19.530425Z",
     "shell.execute_reply": "2022-09-07T15:02:19.529639Z"
    },
    "papermill": {
     "duration": 0.028543,
     "end_time": "2022-09-07T15:02:19.533924",
     "exception": false,
     "start_time": "2022-09-07T15:02:19.505381",
     "status": "completed"
    },
    "tags": []
   },
   "outputs": [
    {
     "name": "stdout",
     "output_type": "stream",
     "text": [
      "RMSE: 1.337712\n"
     ]
    }
   ],
   "source": [
    "rmse = np.sqrt(mean_squared_error(y_test, preds))\n",
    "print(\"RMSE: %f\" % (rmse))"
   ]
  },
  {
   "cell_type": "code",
   "execution_count": 13,
   "id": "732d1d2e",
   "metadata": {
    "execution": {
     "iopub.execute_input": "2022-09-07T15:02:19.571923Z",
     "iopub.status.busy": "2022-09-07T15:02:19.571506Z",
     "iopub.status.idle": "2022-09-07T15:02:20.094221Z",
     "shell.execute_reply": "2022-09-07T15:02:20.093248Z"
    },
    "papermill": {
     "duration": 0.544738,
     "end_time": "2022-09-07T15:02:20.097175",
     "exception": false,
     "start_time": "2022-09-07T15:02:19.552437",
     "status": "completed"
    },
    "tags": []
   },
   "outputs": [
    {
     "name": "stdout",
     "output_type": "stream",
     "text": [
      "[15:02:19] WARNING: ../src/objective/regression_obj.cu:203: reg:linear is now deprecated in favor of reg:squarederror.\n",
      "[15:02:19] WARNING: ../src/objective/regression_obj.cu:203: reg:linear is now deprecated in favor of reg:squarederror.\n",
      "[15:02:19] WARNING: ../src/objective/regression_obj.cu:203: reg:linear is now deprecated in favor of reg:squarederror.\n"
     ]
    }
   ],
   "source": [
    "params = {\"objective\":\"reg:linear\",'colsample_bytree': 0.3,'learning_rate': 0.1,\n",
    "                'max_depth': 5, 'alpha': 10}\n",
    "\n",
    "cv_results = xgb.cv(dtrain=data_dmatrix, params=params, nfold=3,\n",
    "                    num_boost_round=50,early_stopping_rounds=10,metrics=\"rmse\", as_pandas=True, seed=123)"
   ]
  },
  {
   "cell_type": "code",
   "execution_count": 14,
   "id": "5ef8a328",
   "metadata": {
    "execution": {
     "iopub.execute_input": "2022-09-07T15:02:20.134740Z",
     "iopub.status.busy": "2022-09-07T15:02:20.133934Z",
     "iopub.status.idle": "2022-09-07T15:02:20.146428Z",
     "shell.execute_reply": "2022-09-07T15:02:20.145288Z"
    },
    "papermill": {
     "duration": 0.033585,
     "end_time": "2022-09-07T15:02:20.149113",
     "exception": false,
     "start_time": "2022-09-07T15:02:20.115528",
     "status": "completed"
    },
    "tags": []
   },
   "outputs": [
    {
     "data": {
      "text/html": [
       "<div>\n",
       "<style scoped>\n",
       "    .dataframe tbody tr th:only-of-type {\n",
       "        vertical-align: middle;\n",
       "    }\n",
       "\n",
       "    .dataframe tbody tr th {\n",
       "        vertical-align: top;\n",
       "    }\n",
       "\n",
       "    .dataframe thead th {\n",
       "        text-align: right;\n",
       "    }\n",
       "</style>\n",
       "<table border=\"1\" class=\"dataframe\">\n",
       "  <thead>\n",
       "    <tr style=\"text-align: right;\">\n",
       "      <th></th>\n",
       "      <th>train-rmse-mean</th>\n",
       "      <th>train-rmse-std</th>\n",
       "      <th>test-rmse-mean</th>\n",
       "      <th>test-rmse-std</th>\n",
       "    </tr>\n",
       "  </thead>\n",
       "  <tbody>\n",
       "    <tr>\n",
       "      <th>0</th>\n",
       "      <td>1.490281</td>\n",
       "      <td>0.068034</td>\n",
       "      <td>1.493283</td>\n",
       "      <td>0.141926</td>\n",
       "    </tr>\n",
       "    <tr>\n",
       "      <th>1</th>\n",
       "      <td>1.476116</td>\n",
       "      <td>0.065478</td>\n",
       "      <td>1.483648</td>\n",
       "      <td>0.141147</td>\n",
       "    </tr>\n",
       "    <tr>\n",
       "      <th>2</th>\n",
       "      <td>1.465246</td>\n",
       "      <td>0.063418</td>\n",
       "      <td>1.475488</td>\n",
       "      <td>0.140273</td>\n",
       "    </tr>\n",
       "    <tr>\n",
       "      <th>3</th>\n",
       "      <td>1.454482</td>\n",
       "      <td>0.061211</td>\n",
       "      <td>1.468689</td>\n",
       "      <td>0.139157</td>\n",
       "    </tr>\n",
       "    <tr>\n",
       "      <th>4</th>\n",
       "      <td>1.446317</td>\n",
       "      <td>0.060084</td>\n",
       "      <td>1.462654</td>\n",
       "      <td>0.137997</td>\n",
       "    </tr>\n",
       "  </tbody>\n",
       "</table>\n",
       "</div>"
      ],
      "text/plain": [
       "   train-rmse-mean  train-rmse-std  test-rmse-mean  test-rmse-std\n",
       "0         1.490281        0.068034        1.493283       0.141926\n",
       "1         1.476116        0.065478        1.483648       0.141147\n",
       "2         1.465246        0.063418        1.475488       0.140273\n",
       "3         1.454482        0.061211        1.468689       0.139157\n",
       "4         1.446317        0.060084        1.462654       0.137997"
      ]
     },
     "execution_count": 14,
     "metadata": {},
     "output_type": "execute_result"
    }
   ],
   "source": [
    "cv_results.head()"
   ]
  },
  {
   "cell_type": "code",
   "execution_count": 15,
   "id": "a66a278b",
   "metadata": {
    "execution": {
     "iopub.execute_input": "2022-09-07T15:02:20.185849Z",
     "iopub.status.busy": "2022-09-07T15:02:20.184741Z",
     "iopub.status.idle": "2022-09-07T15:02:20.192661Z",
     "shell.execute_reply": "2022-09-07T15:02:20.191357Z"
    },
    "papermill": {
     "duration": 0.029376,
     "end_time": "2022-09-07T15:02:20.195473",
     "exception": false,
     "start_time": "2022-09-07T15:02:20.166097",
     "status": "completed"
    },
    "tags": []
   },
   "outputs": [
    {
     "name": "stdout",
     "output_type": "stream",
     "text": [
      "17    1.446565\n",
      "Name: test-rmse-mean, dtype: float64\n"
     ]
    }
   ],
   "source": [
    "print((cv_results[\"test-rmse-mean\"]).tail(1))"
   ]
  },
  {
   "cell_type": "code",
   "execution_count": 16,
   "id": "23d9d9f4",
   "metadata": {
    "execution": {
     "iopub.execute_input": "2022-09-07T15:02:20.232383Z",
     "iopub.status.busy": "2022-09-07T15:02:20.231602Z",
     "iopub.status.idle": "2022-09-07T15:02:20.272162Z",
     "shell.execute_reply": "2022-09-07T15:02:20.271216Z"
    },
    "papermill": {
     "duration": 0.062336,
     "end_time": "2022-09-07T15:02:20.275590",
     "exception": false,
     "start_time": "2022-09-07T15:02:20.213254",
     "status": "completed"
    },
    "tags": []
   },
   "outputs": [
    {
     "name": "stdout",
     "output_type": "stream",
     "text": [
      "[15:02:20] WARNING: ../src/objective/regression_obj.cu:203: reg:linear is now deprecated in favor of reg:squarederror.\n"
     ]
    }
   ],
   "source": [
    "xg_reg = xgb.train(params=params, dtrain=data_dmatrix, num_boost_round=10)"
   ]
  },
  {
   "cell_type": "code",
   "execution_count": 17,
   "id": "b2586aae",
   "metadata": {
    "execution": {
     "iopub.execute_input": "2022-09-07T15:02:20.314768Z",
     "iopub.status.busy": "2022-09-07T15:02:20.314257Z",
     "iopub.status.idle": "2022-09-07T15:02:21.682822Z",
     "shell.execute_reply": "2022-09-07T15:02:21.681331Z"
    },
    "papermill": {
     "duration": 1.389989,
     "end_time": "2022-09-07T15:02:21.685583",
     "exception": false,
     "start_time": "2022-09-07T15:02:20.295594",
     "status": "completed"
    },
    "tags": []
   },
   "outputs": [
    {
     "data": {
      "image/png": "[encoded data removed]",
      "text/plain": [
       "<Figure size 432x288 with 1 Axes>"
      ]
     },
     "metadata": {
      "needs_background": "light"
     },
     "output_type": "display_data"
    }
   ],
   "source": [
    "xgb.plot_tree(xg_reg,num_trees=0)\n",
    "plt.rcParams['figure.figsize'] = [50, 10]\n",
    "plt.show()"
   ]
  },
  {
   "cell_type": "code",
   "execution_count": 18,
   "id": "32c13da1",
   "metadata": {
    "execution": {
     "iopub.execute_input": "2022-09-07T15:02:21.724297Z",
     "iopub.status.busy": "2022-09-07T15:02:21.723850Z",
     "iopub.status.idle": "2022-09-07T15:02:22.093067Z",
     "shell.execute_reply": "2022-09-07T15:02:22.091783Z"
    },
    "papermill": {
     "duration": 0.391763,
     "end_time": "2022-09-07T15:02:22.095960",
     "exception": false,
     "start_time": "2022-09-07T15:02:21.704197",
     "status": "completed"
    },
    "tags": []
   },
   "outputs": [
    {
     "data": {
      "image/png": "[encoded data removed]",
      "text/plain": [
       "<Figure size 3600x720 with 1 Axes>"
      ]
     },
     "metadata": {
      "needs_background": "light"
     },
     "output_type": "display_data"
    }
   ],
   "source": [
    "xgb.plot_importance(xg_reg)\n",
    "plt.rcParams['figure.figsize'] = [5, 5]\n",
    "plt.show()"
   ]
  },
  {
   "cell_type": "markdown",
   "id": "d25f9770",
   "metadata": {
    "papermill": {
     "duration": 0.017823,
     "end_time": "2022-09-07T15:02:22.132339",
     "exception": false,
     "start_time": "2022-09-07T15:02:22.114516",
     "status": "completed"
    },
    "tags": []
   },
   "source": [
    "**End of XGBoost**"
   ]
  },
  {
   "cell_type": "code",
   "execution_count": 19,
   "id": "5899bfff",
   "metadata": {
    "execution": {
     "iopub.execute_input": "2022-09-07T15:02:22.170728Z",
     "iopub.status.busy": "2022-09-07T15:02:22.170280Z",
     "iopub.status.idle": "2022-09-07T15:02:22.179117Z",
     "shell.execute_reply": "2022-09-07T15:02:22.178267Z"
    },
    "papermill": {
     "duration": 0.030769,
     "end_time": "2022-09-07T15:02:22.181422",
     "exception": false,
     "start_time": "2022-09-07T15:02:22.150653",
     "status": "completed"
    },
    "tags": []
   },
   "outputs": [],
   "source": [
    "train_dataset = target_dataset.sample(frac=0.8, random_state=0)\n",
    "test_dataset = target_dataset.drop(train_dataset.index)"
   ]
  },
  {
   "cell_type": "code",
   "execution_count": 20,
   "id": "2cd5a928",
   "metadata": {
    "execution": {
     "iopub.execute_input": "2022-09-07T15:02:22.220641Z",
     "iopub.status.busy": "2022-09-07T15:02:22.219911Z",
     "iopub.status.idle": "2022-09-07T15:02:25.001589Z",
     "shell.execute_reply": "2022-09-07T15:02:25.000753Z"
    },
    "papermill": {
     "duration": 2.80462,
     "end_time": "2022-09-07T15:02:25.004762",
     "exception": false,
     "start_time": "2022-09-07T15:02:22.200142",
     "status": "completed"
    },
    "tags": []
   },
   "outputs": [
    {
     "data": {
      "text/plain": [
       "<seaborn.axisgrid.PairGrid at 0x7f85c947cad0>"
      ]
     },
     "execution_count": 20,
     "metadata": {},
     "output_type": "execute_result"
    },
    {
     "data": {
      "image/png": "[encoded data removed]",
      "text/plain": [
       "<Figure size 720x720 with 20 Axes>"
      ]
     },
     "metadata": {
      "needs_background": "light"
     },
     "output_type": "display_data"
    }
   ],
   "source": [
    "sns.pairplot(train_dataset[['area_log', 'rain', 'RH', 'FFMC']], diag_kind='kde')"
   ]
  },
  {
   "cell_type": "code",
   "execution_count": 21,
   "id": "8e5913a5",
   "metadata": {
    "execution": {
     "iopub.execute_input": "2022-09-07T15:02:25.050927Z",
     "iopub.status.busy": "2022-09-07T15:02:25.050457Z",
     "iopub.status.idle": "2022-09-07T15:02:27.001181Z",
     "shell.execute_reply": "2022-09-07T15:02:27.000055Z"
    },
    "papermill": {
     "duration": 1.977601,
     "end_time": "2022-09-07T15:02:27.003613",
     "exception": false,
     "start_time": "2022-09-07T15:02:25.026012",
     "status": "completed"
    },
    "tags": []
   },
   "outputs": [
    {
     "data": {
      "text/plain": [
       "<seaborn.axisgrid.PairGrid at 0x7f85c9475750>"
      ]
     },
     "execution_count": 21,
     "metadata": {},
     "output_type": "execute_result"
    },
    {
     "data": {
      "image/png": "[encoded data removed]",
      "text/plain": [
       "<Figure size 540x540 with 12 Axes>"
      ]
     },
     "metadata": {
      "needs_background": "light"
     },
     "output_type": "display_data"
    }
   ],
   "source": [
    "sns.pairplot(train_dataset[['FFMC', 'rain', 'RH']], diag_kind='kde')"
   ]
  },
  {
   "cell_type": "code",
   "execution_count": 22,
   "id": "9c90e9b4",
   "metadata": {
    "execution": {
     "iopub.execute_input": "2022-09-07T15:02:27.047246Z",
     "iopub.status.busy": "2022-09-07T15:02:27.046801Z",
     "iopub.status.idle": "2022-09-07T15:02:27.086642Z",
     "shell.execute_reply": "2022-09-07T15:02:27.085443Z"
    },
    "papermill": {
     "duration": 0.064504,
     "end_time": "2022-09-07T15:02:27.089145",
     "exception": false,
     "start_time": "2022-09-07T15:02:27.024641",
     "status": "completed"
    },
    "tags": []
   },
   "outputs": [
    {
     "data": {
      "text/html": [
       "<div>\n",
       "<style scoped>\n",
       "    .dataframe tbody tr th:only-of-type {\n",
       "        vertical-align: middle;\n",
       "    }\n",
       "\n",
       "    .dataframe tbody tr th {\n",
       "        vertical-align: top;\n",
       "    }\n",
       "\n",
       "    .dataframe thead th {\n",
       "        text-align: right;\n",
       "    }\n",
       "</style>\n",
       "<table border=\"1\" class=\"dataframe\">\n",
       "  <thead>\n",
       "    <tr style=\"text-align: right;\">\n",
       "      <th></th>\n",
       "      <th>count</th>\n",
       "      <th>mean</th>\n",
       "      <th>std</th>\n",
       "      <th>min</th>\n",
       "      <th>25%</th>\n",
       "      <th>50%</th>\n",
       "      <th>75%</th>\n",
       "      <th>max</th>\n",
       "    </tr>\n",
       "  </thead>\n",
       "  <tbody>\n",
       "    <tr>\n",
       "      <th>FFMC</th>\n",
       "      <td>414.0</td>\n",
       "      <td>90.534300</td>\n",
       "      <td>5.965789</td>\n",
       "      <td>18.700000</td>\n",
       "      <td>90.200</td>\n",
       "      <td>91.70</td>\n",
       "      <td>92.900000</td>\n",
       "      <td>96.200000</td>\n",
       "    </tr>\n",
       "    <tr>\n",
       "      <th>DMC</th>\n",
       "      <td>414.0</td>\n",
       "      <td>109.481643</td>\n",
       "      <td>62.796135</td>\n",
       "      <td>1.100000</td>\n",
       "      <td>70.800</td>\n",
       "      <td>108.00</td>\n",
       "      <td>141.200000</td>\n",
       "      <td>291.300000</td>\n",
       "    </tr>\n",
       "    <tr>\n",
       "      <th>DC</th>\n",
       "      <td>414.0</td>\n",
       "      <td>541.928986</td>\n",
       "      <td>251.496567</td>\n",
       "      <td>7.900000</td>\n",
       "      <td>425.775</td>\n",
       "      <td>663.00</td>\n",
       "      <td>709.100000</td>\n",
       "      <td>860.600000</td>\n",
       "    </tr>\n",
       "    <tr>\n",
       "      <th>ISI</th>\n",
       "      <td>414.0</td>\n",
       "      <td>9.136957</td>\n",
       "      <td>4.760950</td>\n",
       "      <td>0.000000</td>\n",
       "      <td>6.500</td>\n",
       "      <td>8.40</td>\n",
       "      <td>11.075000</td>\n",
       "      <td>56.100000</td>\n",
       "    </tr>\n",
       "    <tr>\n",
       "      <th>temp</th>\n",
       "      <td>414.0</td>\n",
       "      <td>18.800000</td>\n",
       "      <td>5.857786</td>\n",
       "      <td>2.200000</td>\n",
       "      <td>15.400</td>\n",
       "      <td>19.15</td>\n",
       "      <td>22.800000</td>\n",
       "      <td>33.300000</td>\n",
       "    </tr>\n",
       "    <tr>\n",
       "      <th>RH</th>\n",
       "      <td>414.0</td>\n",
       "      <td>44.142512</td>\n",
       "      <td>16.491291</td>\n",
       "      <td>15.000000</td>\n",
       "      <td>32.000</td>\n",
       "      <td>41.00</td>\n",
       "      <td>53.000000</td>\n",
       "      <td>100.000000</td>\n",
       "    </tr>\n",
       "    <tr>\n",
       "      <th>wind</th>\n",
       "      <td>414.0</td>\n",
       "      <td>3.967874</td>\n",
       "      <td>1.739613</td>\n",
       "      <td>0.400000</td>\n",
       "      <td>2.700</td>\n",
       "      <td>4.00</td>\n",
       "      <td>4.900000</td>\n",
       "      <td>9.400000</td>\n",
       "    </tr>\n",
       "    <tr>\n",
       "      <th>rain</th>\n",
       "      <td>414.0</td>\n",
       "      <td>0.021256</td>\n",
       "      <td>0.320007</td>\n",
       "      <td>0.000000</td>\n",
       "      <td>0.000</td>\n",
       "      <td>0.00</td>\n",
       "      <td>0.000000</td>\n",
       "      <td>6.400000</td>\n",
       "    </tr>\n",
       "    <tr>\n",
       "      <th>area_log</th>\n",
       "      <td>414.0</td>\n",
       "      <td>0.975136</td>\n",
       "      <td>1.461350</td>\n",
       "      <td>-2.407946</td>\n",
       "      <td>0.000</td>\n",
       "      <td>0.00</td>\n",
       "      <td>1.883655</td>\n",
       "      <td>6.994703</td>\n",
       "    </tr>\n",
       "  </tbody>\n",
       "</table>\n",
       "</div>"
      ],
      "text/plain": [
       "          count        mean         std        min      25%     50%  \\\n",
       "FFMC      414.0   90.534300    5.965789  18.700000   90.200   91.70   \n",
       "DMC       414.0  109.481643   62.796135   1.100000   70.800  108.00   \n",
       "DC        414.0  541.928986  251.496567   7.900000  425.775  663.00   \n",
       "ISI       414.0    9.136957    4.760950   0.000000    6.500    8.40   \n",
       "temp      414.0   18.800000    5.857786   2.200000   15.400   19.15   \n",
       "RH        414.0   44.142512   16.491291  15.000000   32.000   41.00   \n",
       "wind      414.0    3.967874    1.739613   0.400000    2.700    4.00   \n",
       "rain      414.0    0.021256    0.320007   0.000000    0.000    0.00   \n",
       "area_log  414.0    0.975136    1.461350  -2.407946    0.000    0.00   \n",
       "\n",
       "                 75%         max  \n",
       "FFMC       92.900000   96.200000  \n",
       "DMC       141.200000  291.300000  \n",
       "DC        709.100000  860.600000  \n",
       "ISI        11.075000   56.100000  \n",
       "temp       22.800000   33.300000  \n",
       "RH         53.000000  100.000000  \n",
       "wind        4.900000    9.400000  \n",
       "rain        0.000000    6.400000  \n",
       "area_log    1.883655    6.994703  "
      ]
     },
     "execution_count": 22,
     "metadata": {},
     "output_type": "execute_result"
    }
   ],
   "source": [
    "train_dataset.describe().transpose()"
   ]
  },
  {
   "cell_type": "code",
   "execution_count": 23,
   "id": "cd5c44e9",
   "metadata": {
    "execution": {
     "iopub.execute_input": "2022-09-07T15:02:27.134577Z",
     "iopub.status.busy": "2022-09-07T15:02:27.134148Z",
     "iopub.status.idle": "2022-09-07T15:02:27.138473Z",
     "shell.execute_reply": "2022-09-07T15:02:27.137693Z"
    },
    "papermill": {
     "duration": 0.029465,
     "end_time": "2022-09-07T15:02:27.140557",
     "exception": false,
     "start_time": "2022-09-07T15:02:27.111092",
     "status": "completed"
    },
    "tags": []
   },
   "outputs": [],
   "source": [
    "#train_dataset = train_dataset[train_dataset['area'] < 10]"
   ]
  },
  {
   "cell_type": "code",
   "execution_count": 24,
   "id": "ad3fd274",
   "metadata": {
    "execution": {
     "iopub.execute_input": "2022-09-07T15:02:27.185858Z",
     "iopub.status.busy": "2022-09-07T15:02:27.185412Z",
     "iopub.status.idle": "2022-09-07T15:02:27.402271Z",
     "shell.execute_reply": "2022-09-07T15:02:27.401483Z"
    },
    "papermill": {
     "duration": 0.242438,
     "end_time": "2022-09-07T15:02:27.404395",
     "exception": false,
     "start_time": "2022-09-07T15:02:27.161957",
     "status": "completed"
    },
    "tags": []
   },
   "outputs": [
    {
     "data": {
      "text/plain": [
       "array([[<AxesSubplot:title={'center':'area_log'}>]], dtype=object)"
      ]
     },
     "execution_count": 24,
     "metadata": {},
     "output_type": "execute_result"
    },
    {
     "data": {
      "image/png": "[encoded data removed]",
      "text/plain": [
       "<Figure size 360x360 with 1 Axes>"
      ]
     },
     "metadata": {
      "needs_background": "light"
     },
     "output_type": "display_data"
    }
   ],
   "source": [
    "train_dataset.hist(column='area_log')"
   ]
  },
  {
   "cell_type": "code",
   "execution_count": 25,
   "id": "8dabe02a",
   "metadata": {
    "execution": {
     "iopub.execute_input": "2022-09-07T15:02:27.452713Z",
     "iopub.status.busy": "2022-09-07T15:02:27.451844Z",
     "iopub.status.idle": "2022-09-07T15:02:27.459030Z",
     "shell.execute_reply": "2022-09-07T15:02:27.458183Z"
    },
    "papermill": {
     "duration": 0.035813,
     "end_time": "2022-09-07T15:02:27.461621",
     "exception": false,
     "start_time": "2022-09-07T15:02:27.425808",
     "status": "completed"
    },
    "tags": []
   },
   "outputs": [],
   "source": [
    "train_features = train_dataset.copy()\n",
    "test_features = test_dataset.copy()\n",
    "\n",
    "train_labels = train_features.pop('area_log')\n",
    "test_labels = test_features.pop('area_log')"
   ]
  },
  {
   "cell_type": "code",
   "execution_count": 26,
   "id": "1551d33a",
   "metadata": {
    "execution": {
     "iopub.execute_input": "2022-09-07T15:02:27.508469Z",
     "iopub.status.busy": "2022-09-07T15:02:27.507598Z",
     "iopub.status.idle": "2022-09-07T15:02:27.541517Z",
     "shell.execute_reply": "2022-09-07T15:02:27.540352Z"
    },
    "papermill": {
     "duration": 0.060691,
     "end_time": "2022-09-07T15:02:27.544391",
     "exception": false,
     "start_time": "2022-09-07T15:02:27.483700",
     "status": "completed"
    },
    "tags": []
   },
   "outputs": [
    {
     "data": {
      "text/html": [
       "<div>\n",
       "<style scoped>\n",
       "    .dataframe tbody tr th:only-of-type {\n",
       "        vertical-align: middle;\n",
       "    }\n",
       "\n",
       "    .dataframe tbody tr th {\n",
       "        vertical-align: top;\n",
       "    }\n",
       "\n",
       "    .dataframe thead th {\n",
       "        text-align: right;\n",
       "    }\n",
       "</style>\n",
       "<table border=\"1\" class=\"dataframe\">\n",
       "  <thead>\n",
       "    <tr style=\"text-align: right;\">\n",
       "      <th></th>\n",
       "      <th>mean</th>\n",
       "      <th>std</th>\n",
       "    </tr>\n",
       "  </thead>\n",
       "  <tbody>\n",
       "    <tr>\n",
       "      <th>FFMC</th>\n",
       "      <td>90.534300</td>\n",
       "      <td>5.965789</td>\n",
       "    </tr>\n",
       "    <tr>\n",
       "      <th>DMC</th>\n",
       "      <td>109.481643</td>\n",
       "      <td>62.796135</td>\n",
       "    </tr>\n",
       "    <tr>\n",
       "      <th>DC</th>\n",
       "      <td>541.928986</td>\n",
       "      <td>251.496567</td>\n",
       "    </tr>\n",
       "    <tr>\n",
       "      <th>ISI</th>\n",
       "      <td>9.136957</td>\n",
       "      <td>4.760950</td>\n",
       "    </tr>\n",
       "    <tr>\n",
       "      <th>temp</th>\n",
       "      <td>18.800000</td>\n",
       "      <td>5.857786</td>\n",
       "    </tr>\n",
       "    <tr>\n",
       "      <th>RH</th>\n",
       "      <td>44.142512</td>\n",
       "      <td>16.491291</td>\n",
       "    </tr>\n",
       "    <tr>\n",
       "      <th>wind</th>\n",
       "      <td>3.967874</td>\n",
       "      <td>1.739613</td>\n",
       "    </tr>\n",
       "    <tr>\n",
       "      <th>rain</th>\n",
       "      <td>0.021256</td>\n",
       "      <td>0.320007</td>\n",
       "    </tr>\n",
       "    <tr>\n",
       "      <th>area_log</th>\n",
       "      <td>0.975136</td>\n",
       "      <td>1.461350</td>\n",
       "    </tr>\n",
       "  </tbody>\n",
       "</table>\n",
       "</div>"
      ],
      "text/plain": [
       "                mean         std\n",
       "FFMC       90.534300    5.965789\n",
       "DMC       109.481643   62.796135\n",
       "DC        541.928986  251.496567\n",
       "ISI         9.136957    4.760950\n",
       "temp       18.800000    5.857786\n",
       "RH         44.142512   16.491291\n",
       "wind        3.967874    1.739613\n",
       "rain        0.021256    0.320007\n",
       "area_log    0.975136    1.461350"
      ]
     },
     "execution_count": 26,
     "metadata": {},
     "output_type": "execute_result"
    }
   ],
   "source": [
    "train_dataset.describe().transpose()[['mean', 'std']]"
   ]
  },
  {
   "cell_type": "code",
   "execution_count": 27,
   "id": "4f207b70",
   "metadata": {
    "execution": {
     "iopub.execute_input": "2022-09-07T15:02:27.590673Z",
     "iopub.status.busy": "2022-09-07T15:02:27.589329Z",
     "iopub.status.idle": "2022-09-07T15:02:27.622649Z",
     "shell.execute_reply": "2022-09-07T15:02:27.621666Z"
    },
    "papermill": {
     "duration": 0.059958,
     "end_time": "2022-09-07T15:02:27.626130",
     "exception": false,
     "start_time": "2022-09-07T15:02:27.566172",
     "status": "completed"
    },
    "tags": []
   },
   "outputs": [],
   "source": [
    "normalizer = tf.keras.layers.Normalization(axis=-1)"
   ]
  },
  {
   "cell_type": "code",
   "execution_count": 28,
   "id": "c72c38ff",
   "metadata": {
    "execution": {
     "iopub.execute_input": "2022-09-07T15:02:27.673134Z",
     "iopub.status.busy": "2022-09-07T15:02:27.671968Z",
     "iopub.status.idle": "2022-09-07T15:02:28.128377Z",
     "shell.execute_reply": "2022-09-07T15:02:28.127080Z"
    },
    "papermill": {
     "duration": 0.482982,
     "end_time": "2022-09-07T15:02:28.131343",
     "exception": false,
     "start_time": "2022-09-07T15:02:27.648361",
     "status": "completed"
    },
    "tags": []
   },
   "outputs": [
    {
     "name": "stderr",
     "output_type": "stream",
     "text": [
      "2022-09-07 15:02:27.689208: I tensorflow/core/common_runtime/process_util.cc:146] Creating new thread pool with default inter op setting: 2. Tune using inter_op_parallelism_threads for best performance.\n",
      "2022-09-07 15:02:27.798029: I tensorflow/compiler/mlir/mlir_graph_optimization_pass.cc:185] None of the MLIR Optimization Passes are enabled (registered 2)\n"
     ]
    }
   ],
   "source": [
    "normalizer.adapt(np.array(train_features))"
   ]
  },
  {
   "cell_type": "code",
   "execution_count": 29,
   "id": "17ca002d",
   "metadata": {
    "execution": {
     "iopub.execute_input": "2022-09-07T15:02:28.178571Z",
     "iopub.status.busy": "2022-09-07T15:02:28.177323Z",
     "iopub.status.idle": "2022-09-07T15:02:28.183523Z",
     "shell.execute_reply": "2022-09-07T15:02:28.182699Z"
    },
    "papermill": {
     "duration": 0.031605,
     "end_time": "2022-09-07T15:02:28.185961",
     "exception": false,
     "start_time": "2022-09-07T15:02:28.154356",
     "status": "completed"
    },
    "tags": []
   },
   "outputs": [
    {
     "name": "stdout",
     "output_type": "stream",
     "text": [
      "[[9.0534309e+01 1.0948165e+02 5.4192896e+02 9.1369553e+00 1.8799999e+01\n",
      "  4.4142506e+01 3.9678745e+00 2.1256037e-02]]\n"
     ]
    }
   ],
   "source": [
    "print(normalizer.mean.numpy())"
   ]
  },
  {
   "cell_type": "code",
   "execution_count": 30,
   "id": "a4934a45",
   "metadata": {
    "execution": {
     "iopub.execute_input": "2022-09-07T15:02:28.231868Z",
     "iopub.status.busy": "2022-09-07T15:02:28.230578Z",
     "iopub.status.idle": "2022-09-07T15:02:28.244368Z",
     "shell.execute_reply": "2022-09-07T15:02:28.243181Z"
    },
    "papermill": {
     "duration": 0.039646,
     "end_time": "2022-09-07T15:02:28.247317",
     "exception": false,
     "start_time": "2022-09-07T15:02:28.207671",
     "status": "completed"
    },
    "tags": []
   },
   "outputs": [
    {
     "name": "stdout",
     "output_type": "stream",
     "text": [
      "First example: [[ 87.6  52.2 103.8   5.   11.   46.    5.8   0. ]]\n",
      "\n",
      "Normalized: [[-0.49 -0.91 -1.74 -0.87 -1.33  0.11  1.05 -0.07]]\n"
     ]
    }
   ],
   "source": [
    "first = np.array(train_features[:1])\n",
    "\n",
    "with np.printoptions(precision=2, suppress=True):\n",
    "  print('First example:', first)\n",
    "  print()\n",
    "  print('Normalized:', normalizer(first).numpy())"
   ]
  },
  {
   "cell_type": "markdown",
   "id": "2be3518e",
   "metadata": {
    "papermill": {
     "duration": 0.022019,
     "end_time": "2022-09-07T15:02:28.291224",
     "exception": false,
     "start_time": "2022-09-07T15:02:28.269205",
     "status": "completed"
    },
    "tags": []
   },
   "source": [
    "**Linear Regression**"
   ]
  },
  {
   "cell_type": "code",
   "execution_count": 31,
   "id": "083faf60",
   "metadata": {
    "execution": {
     "iopub.execute_input": "2022-09-07T15:02:28.337057Z",
     "iopub.status.busy": "2022-09-07T15:02:28.336581Z",
     "iopub.status.idle": "2022-09-07T15:02:28.553292Z",
     "shell.execute_reply": "2022-09-07T15:02:28.552229Z"
    },
    "papermill": {
     "duration": 0.243111,
     "end_time": "2022-09-07T15:02:28.556326",
     "exception": false,
     "start_time": "2022-09-07T15:02:28.313215",
     "status": "completed"
    },
    "tags": []
   },
   "outputs": [],
   "source": [
    "dmc = np.array(train_features['DMC'])\n",
    "\n",
    "dmc_normalizer = layers.Normalization(input_shape=[1,], axis=None)\n",
    "dmc_normalizer.adapt(dmc)"
   ]
  },
  {
   "cell_type": "code",
   "execution_count": 32,
   "id": "e6f0131e",
   "metadata": {
    "execution": {
     "iopub.execute_input": "2022-09-07T15:02:28.604535Z",
     "iopub.status.busy": "2022-09-07T15:02:28.603867Z",
     "iopub.status.idle": "2022-09-07T15:02:28.643165Z",
     "shell.execute_reply": "2022-09-07T15:02:28.641920Z"
    },
    "papermill": {
     "duration": 0.066361,
     "end_time": "2022-09-07T15:02:28.646696",
     "exception": false,
     "start_time": "2022-09-07T15:02:28.580335",
     "status": "completed"
    },
    "tags": []
   },
   "outputs": [
    {
     "name": "stdout",
     "output_type": "stream",
     "text": [
      "Model: \"sequential\"\n",
      "_________________________________________________________________\n",
      "Layer (type)                 Output Shape              Param #   \n",
      "=================================================================\n",
      "normalization_1 (Normalizati (None, 1)                 3         \n",
      "_________________________________________________________________\n",
      "dense (Dense)                (None, 1)                 2         \n",
      "=================================================================\n",
      "Total params: 5\n",
      "Trainable params: 2\n",
      "Non-trainable params: 3\n",
      "_________________________________________________________________\n"
     ]
    }
   ],
   "source": [
    "dmc_model = tf.keras.Sequential([\n",
    "    dmc_normalizer,\n",
    "    layers.Dense(units=1)\n",
    "])\n",
    "\n",
    "dmc_model.summary()"
   ]
  },
  {
   "cell_type": "code",
   "execution_count": 33,
   "id": "a197599d",
   "metadata": {
    "execution": {
     "iopub.execute_input": "2022-09-07T15:02:28.693357Z",
     "iopub.status.busy": "2022-09-07T15:02:28.692970Z",
     "iopub.status.idle": "2022-09-07T15:02:28.887760Z",
     "shell.execute_reply": "2022-09-07T15:02:28.886236Z"
    },
    "papermill": {
     "duration": 0.220972,
     "end_time": "2022-09-07T15:02:28.890871",
     "exception": false,
     "start_time": "2022-09-07T15:02:28.669899",
     "status": "completed"
    },
    "tags": []
   },
   "outputs": [
    {
     "data": {
      "text/plain": [
       "array([[-0.15285839],\n",
       "       [-0.06613085],\n",
       "       [ 0.05502091],\n",
       "       [ 0.06356023],\n",
       "       [-0.05092015],\n",
       "       [ 0.08464169],\n",
       "       [-0.15846233],\n",
       "       [ 0.08490855],\n",
       "       [ 0.22580749],\n",
       "       [-0.27080786]], dtype=float32)"
      ]
     },
     "execution_count": 33,
     "metadata": {},
     "output_type": "execute_result"
    }
   ],
   "source": [
    "dmc_model.predict(dmc[:10])"
   ]
  },
  {
   "cell_type": "code",
   "execution_count": 34,
   "id": "e0c571fc",
   "metadata": {
    "execution": {
     "iopub.execute_input": "2022-09-07T15:02:28.937645Z",
     "iopub.status.busy": "2022-09-07T15:02:28.936918Z",
     "iopub.status.idle": "2022-09-07T15:02:28.950129Z",
     "shell.execute_reply": "2022-09-07T15:02:28.949256Z"
    },
    "papermill": {
     "duration": 0.039407,
     "end_time": "2022-09-07T15:02:28.952716",
     "exception": false,
     "start_time": "2022-09-07T15:02:28.913309",
     "status": "completed"
    },
    "tags": []
   },
   "outputs": [],
   "source": [
    "dmc_model.compile(\n",
    "    optimizer=tf.keras.optimizers.Adam(learning_rate=0.1),\n",
    "    loss='mean_absolute_error')"
   ]
  },
  {
   "cell_type": "code",
   "execution_count": 35,
   "id": "df73ac62",
   "metadata": {
    "execution": {
     "iopub.execute_input": "2022-09-07T15:02:28.998439Z",
     "iopub.status.busy": "2022-09-07T15:02:28.997806Z",
     "iopub.status.idle": "2022-09-07T15:02:33.938658Z",
     "shell.execute_reply": "2022-09-07T15:02:33.936650Z"
    },
    "papermill": {
     "duration": 4.96801,
     "end_time": "2022-09-07T15:02:33.942529",
     "exception": false,
     "start_time": "2022-09-07T15:02:28.974519",
     "status": "completed"
    },
    "tags": []
   },
   "outputs": [
    {
     "name": "stdout",
     "output_type": "stream",
     "text": [
      "CPU times: user 5.13 s, sys: 322 ms, total: 5.45 s\n",
      "Wall time: 4.93 s\n"
     ]
    }
   ],
   "source": [
    "%%time\n",
    "history = dmc_model.fit(\n",
    "    train_features['DMC'],\n",
    "    train_labels,\n",
    "    epochs=100,\n",
    "    # Suppress logging.\n",
    "    verbose=0,\n",
    "    # Calculate validation results on 20% of the training data.\n",
    "    validation_split = 0.2)"
   ]
  },
  {
   "cell_type": "code",
   "execution_count": 36,
   "id": "0f0a3a73",
   "metadata": {
    "execution": {
     "iopub.execute_input": "2022-09-07T15:02:33.988986Z",
     "iopub.status.busy": "2022-09-07T15:02:33.988539Z",
     "iopub.status.idle": "2022-09-07T15:02:34.001791Z",
     "shell.execute_reply": "2022-09-07T15:02:34.000733Z"
    },
    "papermill": {
     "duration": 0.0405,
     "end_time": "2022-09-07T15:02:34.005629",
     "exception": false,
     "start_time": "2022-09-07T15:02:33.965129",
     "status": "completed"
    },
    "tags": []
   },
   "outputs": [
    {
     "data": {
      "text/html": [
       "<div>\n",
       "<style scoped>\n",
       "    .dataframe tbody tr th:only-of-type {\n",
       "        vertical-align: middle;\n",
       "    }\n",
       "\n",
       "    .dataframe tbody tr th {\n",
       "        vertical-align: top;\n",
       "    }\n",
       "\n",
       "    .dataframe thead th {\n",
       "        text-align: right;\n",
       "    }\n",
       "</style>\n",
       "<table border=\"1\" class=\"dataframe\">\n",
       "  <thead>\n",
       "    <tr style=\"text-align: right;\">\n",
       "      <th></th>\n",
       "      <th>loss</th>\n",
       "      <th>val_loss</th>\n",
       "      <th>epoch</th>\n",
       "    </tr>\n",
       "  </thead>\n",
       "  <tbody>\n",
       "    <tr>\n",
       "      <th>95</th>\n",
       "      <td>1.104514</td>\n",
       "      <td>1.016465</td>\n",
       "      <td>95</td>\n",
       "    </tr>\n",
       "    <tr>\n",
       "      <th>96</th>\n",
       "      <td>1.085091</td>\n",
       "      <td>1.004590</td>\n",
       "      <td>96</td>\n",
       "    </tr>\n",
       "    <tr>\n",
       "      <th>97</th>\n",
       "      <td>1.088944</td>\n",
       "      <td>0.998450</td>\n",
       "      <td>97</td>\n",
       "    </tr>\n",
       "    <tr>\n",
       "      <th>98</th>\n",
       "      <td>1.095001</td>\n",
       "      <td>1.004203</td>\n",
       "      <td>98</td>\n",
       "    </tr>\n",
       "    <tr>\n",
       "      <th>99</th>\n",
       "      <td>1.090711</td>\n",
       "      <td>0.999134</td>\n",
       "      <td>99</td>\n",
       "    </tr>\n",
       "  </tbody>\n",
       "</table>\n",
       "</div>"
      ],
      "text/plain": [
       "        loss  val_loss  epoch\n",
       "95  1.104514  1.016465     95\n",
       "96  1.085091  1.004590     96\n",
       "97  1.088944  0.998450     97\n",
       "98  1.095001  1.004203     98\n",
       "99  1.090711  0.999134     99"
      ]
     },
     "execution_count": 36,
     "metadata": {},
     "output_type": "execute_result"
    }
   ],
   "source": [
    "hist = pd.DataFrame(history.history)\n",
    "hist['epoch'] = history.epoch\n",
    "hist.tail()"
   ]
  },
  {
   "cell_type": "code",
   "execution_count": 37,
   "id": "d24da629",
   "metadata": {
    "execution": {
     "iopub.execute_input": "2022-09-07T15:02:34.053458Z",
     "iopub.status.busy": "2022-09-07T15:02:34.052217Z",
     "iopub.status.idle": "2022-09-07T15:02:34.059124Z",
     "shell.execute_reply": "2022-09-07T15:02:34.057991Z"
    },
    "papermill": {
     "duration": 0.033318,
     "end_time": "2022-09-07T15:02:34.061667",
     "exception": false,
     "start_time": "2022-09-07T15:02:34.028349",
     "status": "completed"
    },
    "tags": []
   },
   "outputs": [],
   "source": [
    "def plot_loss(history):\n",
    "  plt.plot(history.history['loss'], label='loss')\n",
    "  plt.plot(history.history['val_loss'], label='val_loss')\n",
    "  plt.ylim([0, 5])\n",
    "  plt.xlabel('Epoch')\n",
    "  plt.ylabel('Error [DMC]')\n",
    "  plt.legend()\n",
    "  plt.grid(True)"
   ]
  },
  {
   "cell_type": "code",
   "execution_count": 38,
   "id": "b7edf656",
   "metadata": {
    "execution": {
     "iopub.execute_input": "2022-09-07T15:02:34.108603Z",
     "iopub.status.busy": "2022-09-07T15:02:34.107850Z",
     "iopub.status.idle": "2022-09-07T15:02:34.335619Z",
     "shell.execute_reply": "2022-09-07T15:02:34.334730Z"
    },
    "papermill": {
     "duration": 0.255942,
     "end_time": "2022-09-07T15:02:34.340070",
     "exception": false,
     "start_time": "2022-09-07T15:02:34.084128",
     "status": "completed"
    },
    "tags": []
   },
   "outputs": [
    {
     "data": {
      "image/png": "[encoded data removed]",
      "text/plain": [
       "<Figure size 360x360 with 1 Axes>"
      ]
     },
     "metadata": {
      "needs_background": "light"
     },
     "output_type": "display_data"
    }
   ],
   "source": [
    "plot_loss(history)\n"
   ]
  },
  {
   "cell_type": "code",
   "execution_count": 39,
   "id": "cde5735f",
   "metadata": {
    "execution": {
     "iopub.execute_input": "2022-09-07T15:02:34.402945Z",
     "iopub.status.busy": "2022-09-07T15:02:34.401915Z",
     "iopub.status.idle": "2022-09-07T15:02:34.476564Z",
     "shell.execute_reply": "2022-09-07T15:02:34.475339Z"
    },
    "papermill": {
     "duration": 0.102113,
     "end_time": "2022-09-07T15:02:34.479861",
     "exception": false,
     "start_time": "2022-09-07T15:02:34.377748",
     "status": "completed"
    },
    "tags": []
   },
   "outputs": [],
   "source": [
    "test_results = {}\n",
    "\n",
    "test_results['dmc_model'] = dmc_model.evaluate(\n",
    "    test_features['DMC'],\n",
    "    test_labels, verbose=0)"
   ]
  },
  {
   "cell_type": "code",
   "execution_count": 40,
   "id": "b3e50903",
   "metadata": {
    "execution": {
     "iopub.execute_input": "2022-09-07T15:02:34.534821Z",
     "iopub.status.busy": "2022-09-07T15:02:34.534322Z",
     "iopub.status.idle": "2022-09-07T15:02:34.689287Z",
     "shell.execute_reply": "2022-09-07T15:02:34.688185Z"
    },
    "papermill": {
     "duration": 0.190002,
     "end_time": "2022-09-07T15:02:34.692388",
     "exception": false,
     "start_time": "2022-09-07T15:02:34.502386",
     "status": "completed"
    },
    "tags": []
   },
   "outputs": [],
   "source": [
    "x = tf.linspace(0.0, 250, 251)\n",
    "y = dmc_model.predict(x)"
   ]
  },
  {
   "cell_type": "code",
   "execution_count": 41,
   "id": "0bd73e46",
   "metadata": {
    "execution": {
     "iopub.execute_input": "2022-09-07T15:02:34.740374Z",
     "iopub.status.busy": "2022-09-07T15:02:34.739289Z",
     "iopub.status.idle": "2022-09-07T15:02:34.745825Z",
     "shell.execute_reply": "2022-09-07T15:02:34.744674Z"
    },
    "papermill": {
     "duration": 0.033039,
     "end_time": "2022-09-07T15:02:34.748406",
     "exception": false,
     "start_time": "2022-09-07T15:02:34.715367",
     "status": "completed"
    },
    "tags": []
   },
   "outputs": [],
   "source": [
    "def plot_dmc(x, y):\n",
    "  plt.scatter(train_features['DMC'], train_labels, label='Data')\n",
    "  plt.plot(x, y, color='k', label='Predictions')\n",
    "  plt.xlabel('DMC')\n",
    "  plt.ylabel('area')\n",
    "  plt.legend()"
   ]
  },
  {
   "cell_type": "code",
   "execution_count": 42,
   "id": "d7bb6d79",
   "metadata": {
    "execution": {
     "iopub.execute_input": "2022-09-07T15:02:34.795665Z",
     "iopub.status.busy": "2022-09-07T15:02:34.794858Z",
     "iopub.status.idle": "2022-09-07T15:02:35.031940Z",
     "shell.execute_reply": "2022-09-07T15:02:35.031072Z"
    },
    "papermill": {
     "duration": 0.263389,
     "end_time": "2022-09-07T15:02:35.034461",
     "exception": false,
     "start_time": "2022-09-07T15:02:34.771072",
     "status": "completed"
    },
    "tags": []
   },
   "outputs": [
    {
     "data": {
      "image/png": "[encoded data removed]",
      "text/plain": [
       "<Figure size 360x360 with 1 Axes>"
      ]
     },
     "metadata": {
      "needs_background": "light"
     },
     "output_type": "display_data"
    }
   ],
   "source": [
    "plot_dmc(x, y)\n"
   ]
  },
  {
   "cell_type": "code",
   "execution_count": 43,
   "id": "11345a72",
   "metadata": {
    "execution": {
     "iopub.execute_input": "2022-09-07T15:02:35.082661Z",
     "iopub.status.busy": "2022-09-07T15:02:35.081665Z",
     "iopub.status.idle": "2022-09-07T15:02:35.103986Z",
     "shell.execute_reply": "2022-09-07T15:02:35.103142Z"
    },
    "papermill": {
     "duration": 0.049055,
     "end_time": "2022-09-07T15:02:35.106600",
     "exception": false,
     "start_time": "2022-09-07T15:02:35.057545",
     "status": "completed"
    },
    "tags": []
   },
   "outputs": [],
   "source": [
    "linear_model = tf.keras.Sequential([\n",
    "    normalizer,\n",
    "    layers.Dense(units=1)\n",
    "])"
   ]
  },
  {
   "cell_type": "code",
   "execution_count": 44,
   "id": "eaf7314f",
   "metadata": {
    "execution": {
     "iopub.execute_input": "2022-09-07T15:02:35.154523Z",
     "iopub.status.busy": "2022-09-07T15:02:35.153484Z",
     "iopub.status.idle": "2022-09-07T15:02:35.263342Z",
     "shell.execute_reply": "2022-09-07T15:02:35.262065Z"
    },
    "papermill": {
     "duration": 0.136599,
     "end_time": "2022-09-07T15:02:35.266078",
     "exception": false,
     "start_time": "2022-09-07T15:02:35.129479",
     "status": "completed"
    },
    "tags": []
   },
   "outputs": [
    {
     "data": {
      "text/plain": [
       "array([[-0.60989594],\n",
       "       [-2.1299949 ],\n",
       "       [ 0.87056214],\n",
       "       [ 1.0290669 ],\n",
       "       [-0.35988975],\n",
       "       [ 1.5906293 ],\n",
       "       [ 1.3234143 ],\n",
       "       [-0.36027557],\n",
       "       [-1.2533793 ],\n",
       "       [-3.1171143 ]], dtype=float32)"
      ]
     },
     "execution_count": 44,
     "metadata": {},
     "output_type": "execute_result"
    }
   ],
   "source": [
    "linear_model.predict(train_features[:10])"
   ]
  },
  {
   "cell_type": "code",
   "execution_count": 45,
   "id": "418c1192",
   "metadata": {
    "execution": {
     "iopub.execute_input": "2022-09-07T15:02:35.314619Z",
     "iopub.status.busy": "2022-09-07T15:02:35.314212Z",
     "iopub.status.idle": "2022-09-07T15:02:35.322245Z",
     "shell.execute_reply": "2022-09-07T15:02:35.321106Z"
    },
    "papermill": {
     "duration": 0.035984,
     "end_time": "2022-09-07T15:02:35.325057",
     "exception": false,
     "start_time": "2022-09-07T15:02:35.289073",
     "status": "completed"
    },
    "tags": []
   },
   "outputs": [
    {
     "data": {
      "text/plain": [
       "<tf.Variable 'dense_1/kernel:0' shape=(8, 1) dtype=float32, numpy=\n",
       "array([[ 0.43553555],\n",
       "       [-0.32729292],\n",
       "       [ 0.81164217],\n",
       "       [ 0.4977399 ],\n",
       "       [-0.25331283],\n",
       "       [-0.3826222 ],\n",
       "       [ 0.807217  ],\n",
       "       [-0.12971622]], dtype=float32)>"
      ]
     },
     "execution_count": 45,
     "metadata": {},
     "output_type": "execute_result"
    }
   ],
   "source": [
    "linear_model.layers[1].kernel"
   ]
  },
  {
   "cell_type": "code",
   "execution_count": 46,
   "id": "90da6bd5",
   "metadata": {
    "execution": {
     "iopub.execute_input": "2022-09-07T15:02:35.373864Z",
     "iopub.status.busy": "2022-09-07T15:02:35.373028Z",
     "iopub.status.idle": "2022-09-07T15:02:35.384179Z",
     "shell.execute_reply": "2022-09-07T15:02:35.383303Z"
    },
    "papermill": {
     "duration": 0.0381,
     "end_time": "2022-09-07T15:02:35.386495",
     "exception": false,
     "start_time": "2022-09-07T15:02:35.348395",
     "status": "completed"
    },
    "tags": []
   },
   "outputs": [],
   "source": [
    "linear_model.compile(\n",
    "    optimizer=tf.keras.optimizers.Adam(learning_rate=0.1),\n",
    "    loss='mean_absolute_error')"
   ]
  },
  {
   "cell_type": "code",
   "execution_count": 47,
   "id": "e106ae96",
   "metadata": {
    "execution": {
     "iopub.execute_input": "2022-09-07T15:02:35.434576Z",
     "iopub.status.busy": "2022-09-07T15:02:35.434177Z",
     "iopub.status.idle": "2022-09-07T15:02:40.457424Z",
     "shell.execute_reply": "2022-09-07T15:02:40.456373Z"
    },
    "papermill": {
     "duration": 5.051511,
     "end_time": "2022-09-07T15:02:40.461300",
     "exception": false,
     "start_time": "2022-09-07T15:02:35.409789",
     "status": "completed"
    },
    "tags": []
   },
   "outputs": [
    {
     "name": "stdout",
     "output_type": "stream",
     "text": [
      "CPU times: user 5.15 s, sys: 292 ms, total: 5.44 s\n",
      "Wall time: 5.02 s\n"
     ]
    }
   ],
   "source": [
    "%%time\n",
    "history = linear_model.fit(\n",
    "    train_features,\n",
    "    train_labels,\n",
    "    epochs=100,\n",
    "    # Suppress logging.\n",
    "    verbose=0,\n",
    "    # Calculate validation results on 20% of the training data.\n",
    "    validation_split = 0.2)"
   ]
  },
  {
   "cell_type": "code",
   "execution_count": 48,
   "id": "59984e5b",
   "metadata": {
    "execution": {
     "iopub.execute_input": "2022-09-07T15:02:40.517389Z",
     "iopub.status.busy": "2022-09-07T15:02:40.516920Z",
     "iopub.status.idle": "2022-09-07T15:02:40.736240Z",
     "shell.execute_reply": "2022-09-07T15:02:40.735033Z"
    },
    "papermill": {
     "duration": 0.250744,
     "end_time": "2022-09-07T15:02:40.739122",
     "exception": false,
     "start_time": "2022-09-07T15:02:40.488378",
     "status": "completed"
    },
    "tags": []
   },
   "outputs": [
    {
     "data": {
      "image/png": "[encoded data removed]",
      "text/plain": [
       "<Figure size 360x360 with 1 Axes>"
      ]
     },
     "metadata": {
      "needs_background": "light"
     },
     "output_type": "display_data"
    }
   ],
   "source": [
    "plot_loss(history)"
   ]
  },
  {
   "cell_type": "code",
   "execution_count": 49,
   "id": "86b05571",
   "metadata": {
    "execution": {
     "iopub.execute_input": "2022-09-07T15:02:40.791325Z",
     "iopub.status.busy": "2022-09-07T15:02:40.790917Z",
     "iopub.status.idle": "2022-09-07T15:02:40.871551Z",
     "shell.execute_reply": "2022-09-07T15:02:40.870299Z"
    },
    "papermill": {
     "duration": 0.110166,
     "end_time": "2022-09-07T15:02:40.874734",
     "exception": false,
     "start_time": "2022-09-07T15:02:40.764568",
     "status": "completed"
    },
    "tags": []
   },
   "outputs": [],
   "source": [
    "test_results['linear_model'] = linear_model.evaluate(\n",
    "    test_features, test_labels, verbose=0)\n"
   ]
  },
  {
   "cell_type": "markdown",
   "id": "6be43d46",
   "metadata": {
    "papermill": {
     "duration": 0.023549,
     "end_time": "2022-09-07T15:02:40.922073",
     "exception": false,
     "start_time": "2022-09-07T15:02:40.898524",
     "status": "completed"
    },
    "tags": []
   },
   "source": [
    "DNN"
   ]
  },
  {
   "cell_type": "code",
   "execution_count": 50,
   "id": "6e833585",
   "metadata": {
    "execution": {
     "iopub.execute_input": "2022-09-07T15:02:40.973020Z",
     "iopub.status.busy": "2022-09-07T15:02:40.972522Z",
     "iopub.status.idle": "2022-09-07T15:02:40.979910Z",
     "shell.execute_reply": "2022-09-07T15:02:40.978528Z"
    },
    "papermill": {
     "duration": 0.036778,
     "end_time": "2022-09-07T15:02:40.982551",
     "exception": false,
     "start_time": "2022-09-07T15:02:40.945773",
     "status": "completed"
    },
    "tags": []
   },
   "outputs": [],
   "source": [
    "def build_and_compile_model(norm):\n",
    "  model = tf.keras.Sequential([\n",
    "      norm,\n",
    "      layers.Dense(64, activation='relu'),\n",
    "      layers.Dense(64, activation='relu'),\n",
    "      layers.Dense(1)\n",
    "  ])\n",
    "\n",
    "  model.compile(loss='mean_absolute_error',\n",
    "                optimizer=tf.keras.optimizers.Adam(0.001))\n",
    "  return model"
   ]
  },
  {
   "cell_type": "code",
   "execution_count": 51,
   "id": "3a9c191e",
   "metadata": {
    "execution": {
     "iopub.execute_input": "2022-09-07T15:02:41.032857Z",
     "iopub.status.busy": "2022-09-07T15:02:41.031402Z",
     "iopub.status.idle": "2022-09-07T15:02:41.077311Z",
     "shell.execute_reply": "2022-09-07T15:02:41.075949Z"
    },
    "papermill": {
     "duration": 0.073805,
     "end_time": "2022-09-07T15:02:41.080226",
     "exception": false,
     "start_time": "2022-09-07T15:02:41.006421",
     "status": "completed"
    },
    "tags": []
   },
   "outputs": [],
   "source": [
    "dnn_dmc_model = build_and_compile_model(dmc_normalizer)\n"
   ]
  },
  {
   "cell_type": "code",
   "execution_count": 52,
   "id": "49ca8859",
   "metadata": {
    "execution": {
     "iopub.execute_input": "2022-09-07T15:02:41.131403Z",
     "iopub.status.busy": "2022-09-07T15:02:41.130927Z",
     "iopub.status.idle": "2022-09-07T15:02:41.137351Z",
     "shell.execute_reply": "2022-09-07T15:02:41.136082Z"
    },
    "papermill": {
     "duration": 0.037896,
     "end_time": "2022-09-07T15:02:41.142135",
     "exception": false,
     "start_time": "2022-09-07T15:02:41.104239",
     "status": "completed"
    },
    "tags": []
   },
   "outputs": [
    {
     "name": "stdout",
     "output_type": "stream",
     "text": [
      "Model: \"sequential_2\"\n",
      "_________________________________________________________________\n",
      "Layer (type)                 Output Shape              Param #   \n",
      "=================================================================\n",
      "normalization_1 (Normalizati (None, 1)                 3         \n",
      "_________________________________________________________________\n",
      "dense_2 (Dense)              (None, 64)                128       \n",
      "_________________________________________________________________\n",
      "dense_3 (Dense)              (None, 64)                4160      \n",
      "_________________________________________________________________\n",
      "dense_4 (Dense)              (None, 1)                 65        \n",
      "=================================================================\n",
      "Total params: 4,356\n",
      "Trainable params: 4,353\n",
      "Non-trainable params: 3\n",
      "_________________________________________________________________\n"
     ]
    }
   ],
   "source": [
    "dnn_dmc_model.summary()"
   ]
  },
  {
   "cell_type": "code",
   "execution_count": 53,
   "id": "8fa924e0",
   "metadata": {
    "execution": {
     "iopub.execute_input": "2022-09-07T15:02:41.197070Z",
     "iopub.status.busy": "2022-09-07T15:02:41.196298Z",
     "iopub.status.idle": "2022-09-07T15:02:41.203136Z",
     "shell.execute_reply": "2022-09-07T15:02:41.201700Z"
    },
    "papermill": {
     "duration": 0.036882,
     "end_time": "2022-09-07T15:02:41.205736",
     "exception": false,
     "start_time": "2022-09-07T15:02:41.168854",
     "status": "completed"
    },
    "tags": []
   },
   "outputs": [
    {
     "name": "stdout",
     "output_type": "stream",
     "text": [
      "414\n"
     ]
    }
   ],
   "source": [
    "print(len(train_features))"
   ]
  },
  {
   "cell_type": "code",
   "execution_count": 54,
   "id": "38eacc46",
   "metadata": {
    "execution": {
     "iopub.execute_input": "2022-09-07T15:02:41.258157Z",
     "iopub.status.busy": "2022-09-07T15:02:41.257654Z",
     "iopub.status.idle": "2022-09-07T15:02:47.221961Z",
     "shell.execute_reply": "2022-09-07T15:02:47.220786Z"
    },
    "papermill": {
     "duration": 5.993361,
     "end_time": "2022-09-07T15:02:47.224472",
     "exception": false,
     "start_time": "2022-09-07T15:02:41.231111",
     "status": "completed"
    },
    "tags": []
   },
   "outputs": [
    {
     "name": "stdout",
     "output_type": "stream",
     "text": [
      "CPU times: user 6.53 s, sys: 820 ms, total: 7.35 s\n",
      "Wall time: 5.96 s\n"
     ]
    }
   ],
   "source": [
    "%%time\n",
    "history = dnn_dmc_model.fit(\n",
    "    train_features['DMC'],\n",
    "    train_labels,\n",
    "    validation_split=0.2,\n",
    "    verbose=0, epochs=100)"
   ]
  },
  {
   "cell_type": "code",
   "execution_count": 55,
   "id": "60e6dea0",
   "metadata": {
    "execution": {
     "iopub.execute_input": "2022-09-07T15:02:47.273844Z",
     "iopub.status.busy": "2022-09-07T15:02:47.273432Z",
     "iopub.status.idle": "2022-09-07T15:02:47.488518Z",
     "shell.execute_reply": "2022-09-07T15:02:47.487440Z"
    },
    "papermill": {
     "duration": 0.242772,
     "end_time": "2022-09-07T15:02:47.491139",
     "exception": false,
     "start_time": "2022-09-07T15:02:47.248367",
     "status": "completed"
    },
    "tags": []
   },
   "outputs": [
    {
     "data": {
      "image/png": "[encoded data removed]",
      "text/plain": [
       "<Figure size 360x360 with 1 Axes>"
      ]
     },
     "metadata": {
      "needs_background": "light"
     },
     "output_type": "display_data"
    }
   ],
   "source": [
    "plot_loss(history)"
   ]
  },
  {
   "cell_type": "code",
   "execution_count": 56,
   "id": "77a00a10",
   "metadata": {
    "execution": {
     "iopub.execute_input": "2022-09-07T15:02:47.542456Z",
     "iopub.status.busy": "2022-09-07T15:02:47.542013Z",
     "iopub.status.idle": "2022-09-07T15:02:47.662238Z",
     "shell.execute_reply": "2022-09-07T15:02:47.661093Z"
    },
    "papermill": {
     "duration": 0.149256,
     "end_time": "2022-09-07T15:02:47.665275",
     "exception": false,
     "start_time": "2022-09-07T15:02:47.516019",
     "status": "completed"
    },
    "tags": []
   },
   "outputs": [],
   "source": [
    "x = tf.linspace(0.0, 50, 51)\n",
    "y = dnn_dmc_model.predict(x)"
   ]
  },
  {
   "cell_type": "code",
   "execution_count": 57,
   "id": "7c9df5ce",
   "metadata": {
    "execution": {
     "iopub.execute_input": "2022-09-07T15:02:47.716550Z",
     "iopub.status.busy": "2022-09-07T15:02:47.715846Z",
     "iopub.status.idle": "2022-09-07T15:02:47.952551Z",
     "shell.execute_reply": "2022-09-07T15:02:47.951654Z"
    },
    "papermill": {
     "duration": 0.264861,
     "end_time": "2022-09-07T15:02:47.955023",
     "exception": false,
     "start_time": "2022-09-07T15:02:47.690162",
     "status": "completed"
    },
    "tags": []
   },
   "outputs": [
    {
     "data": {
      "image/png": "[encoded data removed]",
      "text/plain": [
       "<Figure size 360x360 with 1 Axes>"
      ]
     },
     "metadata": {
      "needs_background": "light"
     },
     "output_type": "display_data"
    }
   ],
   "source": [
    "plot_dmc(x, y)"
   ]
  },
  {
   "cell_type": "code",
   "execution_count": 58,
   "id": "b645cec9",
   "metadata": {
    "execution": {
     "iopub.execute_input": "2022-09-07T15:02:48.007508Z",
     "iopub.status.busy": "2022-09-07T15:02:48.006647Z",
     "iopub.status.idle": "2022-09-07T15:02:48.084119Z",
     "shell.execute_reply": "2022-09-07T15:02:48.082523Z"
    },
    "papermill": {
     "duration": 0.107415,
     "end_time": "2022-09-07T15:02:48.087406",
     "exception": false,
     "start_time": "2022-09-07T15:02:47.979991",
     "status": "completed"
    },
    "tags": []
   },
   "outputs": [],
   "source": [
    "test_results['dnn_dmc_model'] = dnn_dmc_model.evaluate(\n",
    "    test_features['DMC'], test_labels,\n",
    "    verbose=0)"
   ]
  },
  {
   "cell_type": "code",
   "execution_count": 59,
   "id": "eb920517",
   "metadata": {
    "execution": {
     "iopub.execute_input": "2022-09-07T15:02:48.138815Z",
     "iopub.status.busy": "2022-09-07T15:02:48.137548Z",
     "iopub.status.idle": "2022-09-07T15:02:48.180760Z",
     "shell.execute_reply": "2022-09-07T15:02:48.179874Z"
    },
    "papermill": {
     "duration": 0.071965,
     "end_time": "2022-09-07T15:02:48.184031",
     "exception": false,
     "start_time": "2022-09-07T15:02:48.112066",
     "status": "completed"
    },
    "tags": []
   },
   "outputs": [
    {
     "name": "stdout",
     "output_type": "stream",
     "text": [
      "Model: \"sequential_3\"\n",
      "_________________________________________________________________\n",
      "Layer (type)                 Output Shape              Param #   \n",
      "=================================================================\n",
      "normalization (Normalization (None, 8)                 17        \n",
      "_________________________________________________________________\n",
      "dense_5 (Dense)              (None, 64)                576       \n",
      "_________________________________________________________________\n",
      "dense_6 (Dense)              (None, 64)                4160      \n",
      "_________________________________________________________________\n",
      "dense_7 (Dense)              (None, 1)                 65        \n",
      "=================================================================\n",
      "Total params: 4,818\n",
      "Trainable params: 4,801\n",
      "Non-trainable params: 17\n",
      "_________________________________________________________________\n"
     ]
    }
   ],
   "source": [
    "dnn_model = build_and_compile_model(normalizer)\n",
    "dnn_model.summary()"
   ]
  },
  {
   "cell_type": "code",
   "execution_count": 60,
   "id": "49ce2968",
   "metadata": {
    "execution": {
     "iopub.execute_input": "2022-09-07T15:02:48.236667Z",
     "iopub.status.busy": "2022-09-07T15:02:48.235773Z",
     "iopub.status.idle": "2022-09-07T15:02:59.510753Z",
     "shell.execute_reply": "2022-09-07T15:02:59.509458Z"
    },
    "papermill": {
     "duration": 11.303624,
     "end_time": "2022-09-07T15:02:59.513555",
     "exception": false,
     "start_time": "2022-09-07T15:02:48.209931",
     "status": "completed"
    },
    "tags": []
   },
   "outputs": [
    {
     "name": "stdout",
     "output_type": "stream",
     "text": [
      "CPU times: user 12.6 s, sys: 1.7 s, total: 14.3 s\n",
      "Wall time: 11.3 s\n"
     ]
    }
   ],
   "source": [
    "%%time\n",
    "history = dnn_model.fit(\n",
    "    train_features,\n",
    "    train_labels,\n",
    "    validation_split=0.2,\n",
    "    verbose=0, epochs=200)"
   ]
  },
  {
   "cell_type": "code",
   "execution_count": 61,
   "id": "f4871389",
   "metadata": {
    "execution": {
     "iopub.execute_input": "2022-09-07T15:02:59.564286Z",
     "iopub.status.busy": "2022-09-07T15:02:59.563872Z",
     "iopub.status.idle": "2022-09-07T15:02:59.792561Z",
     "shell.execute_reply": "2022-09-07T15:02:59.791131Z"
    },
    "papermill": {
     "duration": 0.257666,
     "end_time": "2022-09-07T15:02:59.795619",
     "exception": false,
     "start_time": "2022-09-07T15:02:59.537953",
     "status": "completed"
    },
    "tags": []
   },
   "outputs": [
    {
     "data": {
      "image/png": "[encoded data removed]",
      "text/plain": [
       "<Figure size 360x360 with 1 Axes>"
      ]
     },
     "metadata": {
      "needs_background": "light"
     },
     "output_type": "display_data"
    }
   ],
   "source": [
    "plot_loss(history)"
   ]
  },
  {
   "cell_type": "code",
   "execution_count": 62,
   "id": "e44041bb",
   "metadata": {
    "execution": {
     "iopub.execute_input": "2022-09-07T15:02:59.848260Z",
     "iopub.status.busy": "2022-09-07T15:02:59.847845Z",
     "iopub.status.idle": "2022-09-07T15:02:59.928336Z",
     "shell.execute_reply": "2022-09-07T15:02:59.926600Z"
    },
    "papermill": {
     "duration": 0.110934,
     "end_time": "2022-09-07T15:02:59.931502",
     "exception": false,
     "start_time": "2022-09-07T15:02:59.820568",
     "status": "completed"
    },
    "tags": []
   },
   "outputs": [],
   "source": [
    "test_results['dnn_model'] = dnn_model.evaluate(test_features, test_labels, verbose=0)"
   ]
  },
  {
   "cell_type": "code",
   "execution_count": 63,
   "id": "8e6573fc",
   "metadata": {
    "execution": {
     "iopub.execute_input": "2022-09-07T15:02:59.983768Z",
     "iopub.status.busy": "2022-09-07T15:02:59.983332Z",
     "iopub.status.idle": "2022-09-07T15:02:59.993745Z",
     "shell.execute_reply": "2022-09-07T15:02:59.992881Z"
    },
    "papermill": {
     "duration": 0.038901,
     "end_time": "2022-09-07T15:02:59.995926",
     "exception": false,
     "start_time": "2022-09-07T15:02:59.957025",
     "status": "completed"
    },
    "tags": []
   },
   "outputs": [
    {
     "data": {
      "text/html": [
       "<div>\n",
       "<style scoped>\n",
       "    .dataframe tbody tr th:only-of-type {\n",
       "        vertical-align: middle;\n",
       "    }\n",
       "\n",
       "    .dataframe tbody tr th {\n",
       "        vertical-align: top;\n",
       "    }\n",
       "\n",
       "    .dataframe thead th {\n",
       "        text-align: right;\n",
       "    }\n",
       "</style>\n",
       "<table border=\"1\" class=\"dataframe\">\n",
       "  <thead>\n",
       "    <tr style=\"text-align: right;\">\n",
       "      <th></th>\n",
       "      <th>Mean absolute error [area_log]</th>\n",
       "    </tr>\n",
       "  </thead>\n",
       "  <tbody>\n",
       "    <tr>\n",
       "      <th>dmc_model</th>\n",
       "      <td>1.001987</td>\n",
       "    </tr>\n",
       "    <tr>\n",
       "      <th>linear_model</th>\n",
       "      <td>1.027620</td>\n",
       "    </tr>\n",
       "    <tr>\n",
       "      <th>dnn_dmc_model</th>\n",
       "      <td>1.034191</td>\n",
       "    </tr>\n",
       "    <tr>\n",
       "      <th>dnn_model</th>\n",
       "      <td>1.149563</td>\n",
       "    </tr>\n",
       "  </tbody>\n",
       "</table>\n",
       "</div>"
      ],
      "text/plain": [
       "               Mean absolute error [area_log]\n",
       "dmc_model                            1.001987\n",
       "linear_model                         1.027620\n",
       "dnn_dmc_model                        1.034191\n",
       "dnn_model                            1.149563"
      ]
     },
     "execution_count": 63,
     "metadata": {},
     "output_type": "execute_result"
    }
   ],
   "source": [
    "pd.DataFrame(test_results, index=['Mean absolute error [area_log]']).T"
   ]
  }
 ],
 "metadata": {
  "kernelspec": {
   "display_name": "Python 3",
   "language": "python",
   "name": "python3"
  },
  "language_info": {
   "codemirror_mode": {
    "name": "ipython",
    "version": 3
   },
   "file_extension": ".py",
   "mimetype": "text/x-python",
   "name": "python",
   "nbconvert_exporter": "python",
   "pygments_lexer": "ipython3",
   "version": "3.7.12"
  },
  "papermill": {
   "default_parameters": {},
   "duration": 61.307345,
   "end_time": "2022-09-07T15:03:02.692835",
   "environment_variables": {},
   "exception": null,
   "input_path": "__notebook__.ipynb",
   "output_path": "__notebook__.ipynb",
   "parameters": {},
   "start_time": "2022-09-07T15:02:01.385490",
   "version": "2.3.4"
  }
 },
 "nbformat": 4,
 "nbformat_minor": 5
}
